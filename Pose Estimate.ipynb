{
 "cells": [
  {
   "cell_type": "code",
   "execution_count": 1,
   "id": "bd1f9f61",
   "metadata": {
    "scrolled": true
   },
   "outputs": [
    {
     "name": "stdout",
     "output_type": "stream",
     "text": [
      "Requirement already satisfied: tensorflow==2.5.2 in /Users/tototo869/opt/anaconda3/lib/python3.9/site-packages (2.5.2)\n",
      "Requirement already satisfied: opencv-python in /Users/tototo869/opt/anaconda3/lib/python3.9/site-packages (4.7.0.72)\n",
      "Requirement already satisfied: matplotlib in /Users/tototo869/opt/anaconda3/lib/python3.9/site-packages (3.5.2)\n",
      "Requirement already satisfied: keras-preprocessing~=1.1.2 in /Users/tototo869/opt/anaconda3/lib/python3.9/site-packages (from tensorflow==2.5.2) (1.1.2)\n",
      "Requirement already satisfied: opt-einsum~=3.3.0 in /Users/tototo869/opt/anaconda3/lib/python3.9/site-packages (from tensorflow==2.5.2) (3.3.0)\n",
      "Requirement already satisfied: termcolor~=1.1.0 in /Users/tototo869/opt/anaconda3/lib/python3.9/site-packages (from tensorflow==2.5.2) (1.1.0)\n",
      "Requirement already satisfied: six~=1.15.0 in /Users/tototo869/opt/anaconda3/lib/python3.9/site-packages (from tensorflow==2.5.2) (1.15.0)\n",
      "Requirement already satisfied: typing-extensions~=3.7.4 in /Users/tototo869/opt/anaconda3/lib/python3.9/site-packages (from tensorflow==2.5.2) (3.7.4.3)\n",
      "Requirement already satisfied: grpcio~=1.34.0 in /Users/tototo869/opt/anaconda3/lib/python3.9/site-packages (from tensorflow==2.5.2) (1.34.1)\n",
      "Requirement already satisfied: wrapt~=1.12.1 in /Users/tototo869/opt/anaconda3/lib/python3.9/site-packages (from tensorflow==2.5.2) (1.12.1)\n",
      "Requirement already satisfied: h5py~=3.1.0 in /Users/tototo869/opt/anaconda3/lib/python3.9/site-packages (from tensorflow==2.5.2) (3.1.0)\n",
      "Requirement already satisfied: google-pasta~=0.2 in /Users/tototo869/opt/anaconda3/lib/python3.9/site-packages (from tensorflow==2.5.2) (0.2.0)\n",
      "Requirement already satisfied: absl-py~=0.10 in /Users/tototo869/opt/anaconda3/lib/python3.9/site-packages (from tensorflow==2.5.2) (0.15.0)\n",
      "Requirement already satisfied: tensorflow-estimator<2.6.0,>=2.5.0 in /Users/tototo869/opt/anaconda3/lib/python3.9/site-packages (from tensorflow==2.5.2) (2.5.0)\n",
      "Requirement already satisfied: astunparse~=1.6.3 in /Users/tototo869/opt/anaconda3/lib/python3.9/site-packages (from tensorflow==2.5.2) (1.6.3)\n",
      "Requirement already satisfied: tensorboard~=2.5 in /Users/tototo869/opt/anaconda3/lib/python3.9/site-packages (from tensorflow==2.5.2) (2.11.2)\n",
      "Requirement already satisfied: wheel~=0.35 in /Users/tototo869/opt/anaconda3/lib/python3.9/site-packages (from tensorflow==2.5.2) (0.37.1)\n",
      "Requirement already satisfied: keras-nightly~=2.5.0.dev in /Users/tototo869/opt/anaconda3/lib/python3.9/site-packages (from tensorflow==2.5.2) (2.5.0.dev2021032900)\n",
      "Requirement already satisfied: flatbuffers~=1.12.0 in /Users/tototo869/opt/anaconda3/lib/python3.9/site-packages (from tensorflow==2.5.2) (1.12)\n",
      "Requirement already satisfied: numpy~=1.19.2 in /Users/tototo869/opt/anaconda3/lib/python3.9/site-packages (from tensorflow==2.5.2) (1.19.5)\n",
      "Requirement already satisfied: protobuf>=3.9.2 in /Users/tototo869/opt/anaconda3/lib/python3.9/site-packages (from tensorflow==2.5.2) (3.20.3)\n",
      "Requirement already satisfied: gast==0.4.0 in /Users/tototo869/opt/anaconda3/lib/python3.9/site-packages (from tensorflow==2.5.2) (0.4.0)\n",
      "Requirement already satisfied: packaging>=20.0 in /Users/tototo869/opt/anaconda3/lib/python3.9/site-packages (from matplotlib) (21.3)\n",
      "Requirement already satisfied: fonttools>=4.22.0 in /Users/tototo869/opt/anaconda3/lib/python3.9/site-packages (from matplotlib) (4.25.0)\n",
      "Requirement already satisfied: pyparsing>=2.2.1 in /Users/tototo869/opt/anaconda3/lib/python3.9/site-packages (from matplotlib) (3.0.9)\n",
      "Requirement already satisfied: pillow>=6.2.0 in /Users/tototo869/opt/anaconda3/lib/python3.9/site-packages (from matplotlib) (9.2.0)\n",
      "Requirement already satisfied: python-dateutil>=2.7 in /Users/tototo869/opt/anaconda3/lib/python3.9/site-packages (from matplotlib) (2.8.2)\n",
      "Requirement already satisfied: kiwisolver>=1.0.1 in /Users/tototo869/opt/anaconda3/lib/python3.9/site-packages (from matplotlib) (1.4.2)\n",
      "Requirement already satisfied: cycler>=0.10 in /Users/tototo869/opt/anaconda3/lib/python3.9/site-packages (from matplotlib) (0.11.0)\n",
      "Requirement already satisfied: werkzeug>=1.0.1 in /Users/tototo869/opt/anaconda3/lib/python3.9/site-packages (from tensorboard~=2.5->tensorflow==2.5.2) (2.0.3)\n",
      "Requirement already satisfied: tensorboard-data-server<0.7.0,>=0.6.0 in /Users/tototo869/opt/anaconda3/lib/python3.9/site-packages (from tensorboard~=2.5->tensorflow==2.5.2) (0.6.1)\n",
      "Requirement already satisfied: requests<3,>=2.21.0 in /Users/tototo869/opt/anaconda3/lib/python3.9/site-packages (from tensorboard~=2.5->tensorflow==2.5.2) (2.28.1)\n",
      "Requirement already satisfied: markdown>=2.6.8 in /Users/tototo869/opt/anaconda3/lib/python3.9/site-packages (from tensorboard~=2.5->tensorflow==2.5.2) (3.3.4)\n",
      "Requirement already satisfied: google-auth<3,>=1.6.3 in /Users/tototo869/opt/anaconda3/lib/python3.9/site-packages (from tensorboard~=2.5->tensorflow==2.5.2) (2.17.3)\n",
      "Requirement already satisfied: tensorboard-plugin-wit>=1.6.0 in /Users/tototo869/opt/anaconda3/lib/python3.9/site-packages (from tensorboard~=2.5->tensorflow==2.5.2) (1.8.1)\n",
      "Requirement already satisfied: setuptools>=41.0.0 in /Users/tototo869/opt/anaconda3/lib/python3.9/site-packages (from tensorboard~=2.5->tensorflow==2.5.2) (63.4.1)\n",
      "Requirement already satisfied: google-auth-oauthlib<0.5,>=0.4.1 in /Users/tototo869/opt/anaconda3/lib/python3.9/site-packages (from tensorboard~=2.5->tensorflow==2.5.2) (0.4.6)\n",
      "Requirement already satisfied: pyasn1-modules>=0.2.1 in /Users/tototo869/opt/anaconda3/lib/python3.9/site-packages (from google-auth<3,>=1.6.3->tensorboard~=2.5->tensorflow==2.5.2) (0.2.8)\n",
      "Requirement already satisfied: cachetools<6.0,>=2.0.0 in /Users/tototo869/opt/anaconda3/lib/python3.9/site-packages (from google-auth<3,>=1.6.3->tensorboard~=2.5->tensorflow==2.5.2) (5.3.0)\n",
      "Requirement already satisfied: rsa<5,>=3.1.4 in /Users/tototo869/opt/anaconda3/lib/python3.9/site-packages (from google-auth<3,>=1.6.3->tensorboard~=2.5->tensorflow==2.5.2) (4.9)\n",
      "Requirement already satisfied: requests-oauthlib>=0.7.0 in /Users/tototo869/opt/anaconda3/lib/python3.9/site-packages (from google-auth-oauthlib<0.5,>=0.4.1->tensorboard~=2.5->tensorflow==2.5.2) (1.3.1)\n",
      "Requirement already satisfied: idna<4,>=2.5 in /Users/tototo869/opt/anaconda3/lib/python3.9/site-packages (from requests<3,>=2.21.0->tensorboard~=2.5->tensorflow==2.5.2) (3.3)\n",
      "Requirement already satisfied: urllib3<1.27,>=1.21.1 in /Users/tototo869/opt/anaconda3/lib/python3.9/site-packages (from requests<3,>=2.21.0->tensorboard~=2.5->tensorflow==2.5.2) (1.26.11)\n",
      "Requirement already satisfied: charset-normalizer<3,>=2 in /Users/tototo869/opt/anaconda3/lib/python3.9/site-packages (from requests<3,>=2.21.0->tensorboard~=2.5->tensorflow==2.5.2) (2.0.4)\n",
      "Requirement already satisfied: certifi>=2017.4.17 in /Users/tototo869/opt/anaconda3/lib/python3.9/site-packages (from requests<3,>=2.21.0->tensorboard~=2.5->tensorflow==2.5.2) (2022.9.24)\n",
      "Requirement already satisfied: pyasn1<0.5.0,>=0.4.6 in /Users/tototo869/opt/anaconda3/lib/python3.9/site-packages (from pyasn1-modules>=0.2.1->google-auth<3,>=1.6.3->tensorboard~=2.5->tensorflow==2.5.2) (0.4.8)\n",
      "Requirement already satisfied: oauthlib>=3.0.0 in /Users/tototo869/opt/anaconda3/lib/python3.9/site-packages (from requests-oauthlib>=0.7.0->google-auth-oauthlib<0.5,>=0.4.1->tensorboard~=2.5->tensorflow==2.5.2) (3.2.2)\n",
      "Requirement already satisfied: tensorflow_hub in /Users/tototo869/opt/anaconda3/lib/python3.9/site-packages (0.13.0)\n",
      "Requirement already satisfied: protobuf>=3.19.6 in /Users/tototo869/opt/anaconda3/lib/python3.9/site-packages (from tensorflow_hub) (3.20.3)\n",
      "Requirement already satisfied: numpy>=1.12.0 in /Users/tototo869/opt/anaconda3/lib/python3.9/site-packages (from tensorflow_hub) (1.19.5)\n",
      "Requirement already satisfied: pytube in /Users/tototo869/opt/anaconda3/lib/python3.9/site-packages (12.1.3)\n"
     ]
    }
   ],
   "source": [
    "!pip install tensorflow==2.5.2 opencv-python matplotlib\n",
    "!pip install --upgrade tensorflow_hub\n",
    "!pip install pytube"
   ]
  },
  {
   "cell_type": "code",
   "execution_count": 2,
   "id": "432aab10",
   "metadata": {},
   "outputs": [],
   "source": [
    "import tensorflow as tf\n",
    "import cv2\n",
    "from matplotlib import pyplot as plt\n",
    "import numpy as np\n",
    "import tensorflow_hub as hub\n",
    "from pytube import YouTube as YT"
   ]
  },
  {
   "cell_type": "code",
   "execution_count": 4,
   "id": "6155412a",
   "metadata": {},
   "outputs": [
    {
     "name": "stderr",
     "output_type": "stream",
     "text": [
      "2023-05-03 00:59:48.772315: I tensorflow/core/platform/cpu_feature_guard.cc:142] This TensorFlow binary is optimized with oneAPI Deep Neural Network Library (oneDNN) to use the following CPU instructions in performance-critical operations:  AVX2 FMA\n",
      "To enable them in other operations, rebuild TensorFlow with the appropriate compiler flags.\n"
     ]
    }
   ],
   "source": [
    "model = hub.load('https://tfhub.dev/google/movenet/multipose/lightning/1')\n",
    "movenet = model.signatures['serving_default']\n",
    "AVX2 FMA\n"
   ]
  },
  {
   "cell_type": "code",
   "execution_count": 5,
   "id": "952517a8",
   "metadata": {},
   "outputs": [],
   "source": [
    "# Function to loop through each person detected and render\n",
    "def loop_through_people(frame, keypoints_with_scores, edges, confidence_threshold):\n",
    "    for person in keypoints_with_scores:\n",
    "        draw_connections(frame, person, edges, confidence_threshold)\n",
    "        draw_keypoints(frame, person, confidence_threshold)"
   ]
  },
  {
   "cell_type": "code",
   "execution_count": 6,
   "id": "5002ac79",
   "metadata": {},
   "outputs": [],
   "source": [
    "def draw_keypoints(frame, keypoints, confidence_threshold):\n",
    "    y, x, c = frame.shape\n",
    "    shaped = np.squeeze(np.multiply(keypoints, [y,x,1]))\n",
    "    \n",
    "    for kp in shaped:\n",
    "        ky, kx, kp_conf = kp\n",
    "        if kp_conf > confidence_threshold:\n",
    "            cv2.circle(frame, (int(kx), int(ky)), 6, (0,255,0), -1)"
   ]
  },
  {
   "cell_type": "code",
   "execution_count": 7,
   "id": "885fd9f5",
   "metadata": {},
   "outputs": [],
   "source": [
    "EDGES = {\n",
    "    (0, 1): 'm',\n",
    "    (0, 2): 'c',\n",
    "    (1, 3): 'm',\n",
    "    (2, 4): 'c',\n",
    "    (0, 5): 'm',\n",
    "    (0, 6): 'c',\n",
    "    (5, 7): 'm',\n",
    "    (7, 9): 'm',\n",
    "    (6, 8): 'c',\n",
    "    (8, 10): 'c',\n",
    "    (5, 6): 'y',\n",
    "    (5, 11): 'm',\n",
    "    (6, 12): 'c',\n",
    "    (11, 12): 'y',\n",
    "    (11, 13): 'm',\n",
    "    (13, 15): 'm',\n",
    "    (12, 14): 'c',\n",
    "    (14, 16): 'c'\n",
    "}"
   ]
  },
  {
   "cell_type": "code",
   "execution_count": 8,
   "id": "9e1d0454",
   "metadata": {},
   "outputs": [],
   "source": [
    "def draw_connections(frame, keypoints, edges, confidence_threshold):\n",
    "    y, x, c = frame.shape\n",
    "    shaped = np.squeeze(np.multiply(keypoints, [y,x,1]))\n",
    "    \n",
    "    for edge, color in edges.items():\n",
    "        p1, p2 = edge\n",
    "        y1, x1, c1 = shaped[p1]\n",
    "        y2, x2, c2 = shaped[p2]\n",
    "        \n",
    "        if (c1 > confidence_threshold) & (c2 > confidence_threshold):      \n",
    "            cv2.line(frame, (int(x1), int(y1)), (int(x2), int(y2)), (0,0,255), 4)"
   ]
  },
  {
   "cell_type": "code",
   "execution_count": 15,
   "id": "41535f82",
   "metadata": {},
   "outputs": [
    {
     "name": "stdout",
     "output_type": "stream",
     "text": [
      "Enter URL: https://www.youtube.com/watch?v=WmUa8MQM9aE\n",
      "[<Stream: itag=\"22\" mime_type=\"video/mp4\" res=\"720p\" fps=\"24fps\" vcodec=\"avc1.64001F\" acodec=\"mp4a.40.2\" progressive=\"True\" type=\"video\">, <Stream: itag=\"136\" mime_type=\"video/mp4\" res=\"720p\" fps=\"24fps\" vcodec=\"avc1.4d401f\" progressive=\"False\" type=\"video\">, <Stream: itag=\"247\" mime_type=\"video/webm\" res=\"720p\" fps=\"24fps\" vcodec=\"vp9\" progressive=\"False\" type=\"video\">, <Stream: itag=\"398\" mime_type=\"video/mp4\" res=\"720p\" fps=\"24fps\" vcodec=\"av01.0.05M.08\" progressive=\"False\" type=\"video\">]\n"
     ]
    },
    {
     "data": {
      "text/plain": [
       "'/Users/tototo869/Untitled Folder/TAEYANG - ‘Shoong! (feat. LISA of BLACKPINK)’ DANCE PRACTICE VIDEO.mp4'"
      ]
     },
     "execution_count": 15,
     "metadata": {},
     "output_type": "execute_result"
    }
   ],
   "source": [
    "yt_url = input('Enter URL: ')\n",
    "\n",
    "video = YT(yt_url, use_oauth=True, allow_oauth_cache=True)\n",
    "\n",
    "filtered = video.streams.filter(res=\"720p\")\n",
    "\n",
    "print(filtered)\n",
    "\n",
    "name = video.title + '.mp4'\n",
    "\n",
    "video.streams.filter().get_highest_resolution().download(filename = name)"
   ]
  },
  {
   "cell_type": "code",
   "execution_count": 16,
   "id": "f9183d84",
   "metadata": {},
   "outputs": [
    {
     "name": "stdout",
     "output_type": "stream",
     "text": [
      "影像幀率為： 24\n"
     ]
    }
   ],
   "source": [
    "# 讀取影片\n",
    "cap1 = cv2.VideoCapture(name)\n",
    "\n",
    "# 取得影像幀率\n",
    "fps = cap1.get(cv2.CAP_PROP_FPS)\n",
    "\n",
    "fix_fps = round(fps)\n",
    "\n",
    "print(\"影像幀率為：\", fix_fps)\n",
    "\n",
    "# 釋放資源\n",
    "cap1.release()\n",
    "cv2.destroyAllWindows()"
   ]
  },
  {
   "cell_type": "code",
   "execution_count": 17,
   "id": "7b0eb0fd",
   "metadata": {},
   "outputs": [
    {
     "name": "stderr",
     "output_type": "stream",
     "text": [
      "2023-05-03 01:09:16.965683: I tensorflow/compiler/mlir/mlir_graph_optimization_pass.cc:176] None of the MLIR Optimization Passes are enabled (registered 2)\n"
     ]
    }
   ],
   "source": [
    "cap = cv2.VideoCapture(name)\n",
    "width = int(cap.get(cv2.CAP_PROP_FRAME_WIDTH))    # 取得影像寬度\n",
    "height = int(cap.get(cv2.CAP_PROP_FRAME_HEIGHT))  # 取得影像高度\n",
    "fourcc = cv2.VideoWriter_fourcc(*'mp4v')          # 設定影片的格式為 MJPG\n",
    "out = cv2.VideoWriter('output4.mov', fourcc, fix_fps, (width,  height))  # 產生空的影片\n",
    "\n",
    "while cap.isOpened():\n",
    "    ret, frame = cap.read()\n",
    "    \n",
    "    if frame is None:\n",
    "        break\n",
    "    # Resize image\n",
    "    img = frame.copy()\n",
    "    img = tf.image.resize_with_pad(tf.expand_dims(img, axis=0), 384,640)\n",
    "    input_img = tf.cast(img, dtype=tf.int32)\n",
    "    \n",
    "    # Detection section\n",
    "    results = movenet(input_img)\n",
    "    keypoints_with_scores = results['output_0'].numpy()[:,:,:51].reshape((6,17,3))\n",
    "    \n",
    "    # Render keypoints \n",
    "    loop_through_people(frame, keypoints_with_scores, EDGES, 0.2)\n",
    "    \n",
    "    out.write(frame)       # 將取得的每一幀圖像寫入空的影片\n",
    "    \n",
    "    cv2.imshow('Movenet Multipose', frame)\n",
    "    \n",
    "    if cv2.waitKey(10) & 0xFF==ord('q'):\n",
    "        break\n",
    "cap.release()\n",
    "out.release()  \n",
    "cv2.destroyAllWindows()"
   ]
  },
  {
   "cell_type": "code",
   "execution_count": null,
   "id": "fee62195",
   "metadata": {},
   "outputs": [],
   "source": [
    "keypoints_with_scores"
   ]
  },
  {
   "cell_type": "code",
   "execution_count": null,
   "id": "dabe6366",
   "metadata": {},
   "outputs": [],
   "source": []
  },
  {
   "cell_type": "code",
   "execution_count": null,
   "id": "769cb6aa",
   "metadata": {},
   "outputs": [],
   "source": []
  }
 ],
 "metadata": {
  "kernelspec": {
   "display_name": "Python 3 (ipykernel)",
   "language": "python",
   "name": "python3"
  },
  "language_info": {
   "codemirror_mode": {
    "name": "ipython",
    "version": 3
   },
   "file_extension": ".py",
   "mimetype": "text/x-python",
   "name": "python",
   "nbconvert_exporter": "python",
   "pygments_lexer": "ipython3",
   "version": "3.9.13"
  }
 },
 "nbformat": 4,
 "nbformat_minor": 5
}
