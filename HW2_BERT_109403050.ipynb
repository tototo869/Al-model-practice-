{
  "cells": [
    {
      "cell_type": "markdown",
      "source": [
        "# 情緒分析\n",
        "\n",
        "資料集: [Learning Word Vectors for Sentiment Analysis](https://aclanthology.org/P11-1015.pdf)\n",
        "\n",
        "程式碼參考自: [huggingface](https://huggingface.co/)\n",
        "\n",
        "> **資料集說明**\n",
        "\n",
        "Large Movie Review Dataset. This is a dataset for binary sentiment classification containing substantially more data than previous benchmark datasets. We provide a set of 25,000 highly polar movie reviews for training, and 25,000 for testing. There is additional unlabeled data for use as well.\n",
        "\n",
        ">**本次介紹模型為BERT**\n",
        "\n",
        "[BERT: Pre-training of Deep Bidirectional Transformers for Language Understanding](https://github.com/google-research/bert)\n",
        "\n",
        "程式碼參考自: [huggingface](https://huggingface.co/)\n",
        "\n",
        "![](https://i.imgur.com/spiKPbQ.png)\n",
        "\n",
        "[可搭配李宏毅大大的說明影片食用](https://youtu.be/UYPa347-DdE)\n",
        "\n",
        "**訓練一個BERT分類模型，輸入是一句話，辨識出這句話的情緒傾向。**\n",
        "\n",
        "\n",
        ">**作業說明**\n",
        "\n",
        "**第一步驟**: 左上角 檔案 -> 在雲端硬碟建立副本。\n",
        "\n",
        "**第二步驟**: 右上角 共用 -> 取得連結 -> 任何知道這個連結的人都能編輯\n",
        "\n",
        "**第三步驟**: 左上角 執行階段 -> 更變執行類型 -> GPU。 可以加快模型速度\n",
        "\n",
        "**第四步驟**: 檔案名稱，請填寫你的學號，把副本上下引號刪掉。 **如 \"HW2-BERT-111423048.ipynb\"**\n",
        "\n",
        "請 **隨意修改** 這個colab的程式來完成訓練BERT分類模型。**要跑得出來Testing Accuracy, 須完成TODO1-7**，不必一定要照著提示走。\n",
        "繳交時記得改檔案標題的學號。\n",
        "\n",
        "本次作業著重在學習pytorch的使用方法及Transformer家族中BERT的應用。\n",
        "\n",
        "> **作業限制**\n",
        "\n",
        "1. 不要動資料集、不要在訓練時偷看 test data\n",
        "2. 模型可自行多嘗試不同組合，**不能只用已經pretrained好的模型**，一定再用新的資料訓練過\n",
        "3. **不要抄襲**\n",
        "\n",
        "> **作業繳交**\n",
        "\n",
        "1. 完成訓練後保存output結果，更改**檔名學號**，左上角 檔案->下載 成ipynb檔。\n",
        "2. 交一個pdf檔，裡面需要附上**你的作業colab連結(設為可編輯)**、姓名學號年級、過程和執行結果的截圖，並說明你程式撰寫的過程、本次作業心得(字數不限)。\n",
        "3. 文件內至少應貼上你的 Test Acc\n",
        "4. 上述兩個檔案繳交至 ee-class。\n",
        "\n",
        "> **算分標準**\n",
        "\n",
        "* 基本分（85分）：20 + （Test_Acc-85） + Training function（20分） + Model（15分） + 文件（15分）\n",
        "\n",
        "* 加分項（15分）：請附上二至三種的pretrained模型結果（一個5分）**[Transformer 模型總覽](https://huggingface.co/docs/transformers/index)**\n",
        "\n",
        "> 舉例：原本是bert-base-uncased（完成這個就已經有5分了），如果你換其他模型如 distilbert-base-uncased，再完成一次並記錄結果可以再加5分（可在文件中敘述不同模型的差異或建議）\n",
        "\n",
        "1. 20分免費送\n",
        "2. 用訓練完的bert-base-uncased模型去看Test資料的accuracy再減去85\n",
        "3. 完成前置準備所需的程式碼(資料處理等)，共20分(包含TODO1-4)\n",
        "4. 完成模型建構，模型訓練及模型預測，共15分 (TODO5-7)\n",
        "5. 15分是文件分數\n",
        "6. 加分項15分：最多只加到15分（即完成3個模型）\n",
        "\n",
        "有問題再來信助教: joyce111423048@g.ncu.edu.tw"
      ],
      "metadata": {
        "id": "ZpI-S9-Hp-En"
      },
      "id": "ZpI-S9-Hp-En"
    },
    {
      "cell_type": "markdown",
      "source": [
        "### 資料集下載\n",
        "\n",
        "- 資料集說明 : \n",
        "  - text: a string feature.\n",
        "  - label: a classification label, with possible values including neg (0), pos (1)."
      ],
      "metadata": {
        "id": "6Y3gm_UxqEr1"
      },
      "id": "6Y3gm_UxqEr1"
    },
    {
      "cell_type": "markdown",
      "source": [
        "### 請注意\n",
        "* TODO\n",
        "> ```\n",
        "> ##########\n",
        "> # todo #\n",
        "> ##########\n",
        "> ```"
      ],
      "metadata": {
        "id": "9aKF-XVUggmA"
      },
      "id": "9aKF-XVUggmA"
    },
    {
      "cell_type": "markdown",
      "metadata": {
        "id": "8zVpYXmzXyQ4"
      },
      "source": [
        "## 安裝與載入所需套件"
      ],
      "id": "8zVpYXmzXyQ4"
    },
    {
      "cell_type": "code",
      "source": [
        "!pip install datasets transformers"
      ],
      "metadata": {
        "colab": {
          "base_uri": "https://localhost:8080/"
        },
        "id": "sGLfFjfXYIQ8",
        "outputId": "2312eb7c-929e-4968-bf2f-f456dc9795f6"
      },
      "id": "sGLfFjfXYIQ8",
      "execution_count": 170,
      "outputs": [
        {
          "output_type": "stream",
          "name": "stdout",
          "text": [
            "Looking in indexes: https://pypi.org/simple, https://us-python.pkg.dev/colab-wheels/public/simple/\n",
            "Requirement already satisfied: datasets in /usr/local/lib/python3.10/dist-packages (2.12.0)\n",
            "Requirement already satisfied: transformers in /usr/local/lib/python3.10/dist-packages (4.28.1)\n",
            "Requirement already satisfied: requests>=2.19.0 in /usr/local/lib/python3.10/dist-packages (from datasets) (2.27.1)\n",
            "Requirement already satisfied: multiprocess in /usr/local/lib/python3.10/dist-packages (from datasets) (0.70.14)\n",
            "Requirement already satisfied: tqdm>=4.62.1 in /usr/local/lib/python3.10/dist-packages (from datasets) (4.65.0)\n",
            "Requirement already satisfied: fsspec[http]>=2021.11.1 in /usr/local/lib/python3.10/dist-packages (from datasets) (2023.4.0)\n",
            "Requirement already satisfied: huggingface-hub<1.0.0,>=0.11.0 in /usr/local/lib/python3.10/dist-packages (from datasets) (0.14.1)\n",
            "Requirement already satisfied: packaging in /usr/local/lib/python3.10/dist-packages (from datasets) (23.1)\n",
            "Requirement already satisfied: dill<0.3.7,>=0.3.0 in /usr/local/lib/python3.10/dist-packages (from datasets) (0.3.6)\n",
            "Requirement already satisfied: pyarrow>=8.0.0 in /usr/local/lib/python3.10/dist-packages (from datasets) (9.0.0)\n",
            "Requirement already satisfied: responses<0.19 in /usr/local/lib/python3.10/dist-packages (from datasets) (0.18.0)\n",
            "Requirement already satisfied: pyyaml>=5.1 in /usr/local/lib/python3.10/dist-packages (from datasets) (6.0)\n",
            "Requirement already satisfied: xxhash in /usr/local/lib/python3.10/dist-packages (from datasets) (3.2.0)\n",
            "Requirement already satisfied: pandas in /usr/local/lib/python3.10/dist-packages (from datasets) (1.5.3)\n",
            "Requirement already satisfied: aiohttp in /usr/local/lib/python3.10/dist-packages (from datasets) (3.8.4)\n",
            "Requirement already satisfied: numpy>=1.17 in /usr/local/lib/python3.10/dist-packages (from datasets) (1.22.4)\n",
            "Requirement already satisfied: tokenizers!=0.11.3,<0.14,>=0.11.1 in /usr/local/lib/python3.10/dist-packages (from transformers) (0.13.3)\n",
            "Requirement already satisfied: filelock in /usr/local/lib/python3.10/dist-packages (from transformers) (3.12.0)\n",
            "Requirement already satisfied: regex!=2019.12.17 in /usr/local/lib/python3.10/dist-packages (from transformers) (2022.10.31)\n",
            "Requirement already satisfied: charset-normalizer<4.0,>=2.0 in /usr/local/lib/python3.10/dist-packages (from aiohttp->datasets) (2.0.12)\n",
            "Requirement already satisfied: attrs>=17.3.0 in /usr/local/lib/python3.10/dist-packages (from aiohttp->datasets) (23.1.0)\n",
            "Requirement already satisfied: frozenlist>=1.1.1 in /usr/local/lib/python3.10/dist-packages (from aiohttp->datasets) (1.3.3)\n",
            "Requirement already satisfied: aiosignal>=1.1.2 in /usr/local/lib/python3.10/dist-packages (from aiohttp->datasets) (1.3.1)\n",
            "Requirement already satisfied: yarl<2.0,>=1.0 in /usr/local/lib/python3.10/dist-packages (from aiohttp->datasets) (1.9.2)\n",
            "Requirement already satisfied: async-timeout<5.0,>=4.0.0a3 in /usr/local/lib/python3.10/dist-packages (from aiohttp->datasets) (4.0.2)\n",
            "Requirement already satisfied: multidict<7.0,>=4.5 in /usr/local/lib/python3.10/dist-packages (from aiohttp->datasets) (6.0.4)\n",
            "Requirement already satisfied: typing-extensions>=3.7.4.3 in /usr/local/lib/python3.10/dist-packages (from huggingface-hub<1.0.0,>=0.11.0->datasets) (4.5.0)\n",
            "Requirement already satisfied: certifi>=2017.4.17 in /usr/local/lib/python3.10/dist-packages (from requests>=2.19.0->datasets) (2022.12.7)\n",
            "Requirement already satisfied: idna<4,>=2.5 in /usr/local/lib/python3.10/dist-packages (from requests>=2.19.0->datasets) (3.4)\n",
            "Requirement already satisfied: urllib3<1.27,>=1.21.1 in /usr/local/lib/python3.10/dist-packages (from requests>=2.19.0->datasets) (1.26.15)\n",
            "Requirement already satisfied: python-dateutil>=2.8.1 in /usr/local/lib/python3.10/dist-packages (from pandas->datasets) (2.8.2)\n",
            "Requirement already satisfied: pytz>=2020.1 in /usr/local/lib/python3.10/dist-packages (from pandas->datasets) (2022.7.1)\n",
            "Requirement already satisfied: six>=1.5 in /usr/local/lib/python3.10/dist-packages (from python-dateutil>=2.8.1->pandas->datasets) (1.16.0)\n"
          ]
        }
      ]
    },
    {
      "cell_type": "code",
      "execution_count": 171,
      "metadata": {
        "id": "ej79ZzPJXyQ5"
      },
      "outputs": [],
      "source": [
        "from torch.utils.data import Dataset, DataLoader\n",
        "from transformers import AutoTokenizer\n",
        "from transformers.models.bert.modeling_bert import BertPreTrainedModel, BertModel\n",
        "from sklearn.model_selection import train_test_split\n",
        "import torch\n",
        "import torch.nn.functional as Fun\n",
        "import torch.nn as nn\n",
        "import tensorflow as tf\n",
        "import transformers\n",
        "import matplotlib.pyplot as plt\n",
        "import pandas as pd\n",
        "import numpy as np\n",
        "import time\n",
        "import warnings\n",
        "warnings.filterwarnings('ignore') # setting ignore as a parameter\n"
      ],
      "id": "ej79ZzPJXyQ5"
    },
    {
      "cell_type": "markdown",
      "metadata": {
        "id": "kFHx_Dq5XyQ7"
      },
      "source": [
        "## 一些模型會用到的小函數"
      ],
      "id": "kFHx_Dq5XyQ7"
    },
    {
      "cell_type": "markdown",
      "source": [
        "* TODO1: 完成get_pred()\n",
        "> 從logits的dimension=1去取得結果中數值最高者當做預測結果\n",
        "* TODO2: 完成cal_metrics()\n",
        "> 透過將tensor轉為numpy，可使用sklearn的套件算出acc, f1_score, recall及precision"
      ],
      "metadata": {
        "id": "i6gcO4YfxzeT"
      },
      "id": "i6gcO4YfxzeT"
    },
    {
      "cell_type": "code",
      "execution_count": 172,
      "metadata": {
        "id": "nOSkuPT7XyQ8"
      },
      "outputs": [],
      "source": [
        "from sklearn.metrics import accuracy_score, f1_score, recall_score, precision_score\n",
        "import numpy as np\n",
        "\n",
        "# get predict result\n",
        "def get_pred(logits):\n",
        "  \n",
        "  '''\n",
        "  Parameter\n",
        "  ---------\n",
        "  logits: torch.tensor, model outputs (batch_size, max_length, vocab_size)\n",
        "  ---------\n",
        "  ''' \n",
        "\n",
        "  logits = logits.argmax(dim=-1)\n",
        "  return logits\n",
        "\n",
        "# calculate confusion metrics\n",
        "def cal_metrics(pred, ans, average):\n",
        "\n",
        "  '''\n",
        "  Parameter\n",
        "  ---------\n",
        "  pred: [list], predict sentences\n",
        "  ans: [list], true sentence\n",
        "  ---------\n",
        "  ''' \n",
        "  \n",
        "  # 將Tensor轉換為NumPy數組\n",
        "  pred_numpy = pred.cpu().numpy()\n",
        "  ans_numpy = ans.cpu().numpy()\n",
        "\n",
        "  # 計算精度、F1分數、召回率和精確度等指標\n",
        "  acc = accuracy_score(pred_numpy, ans_numpy)\n",
        "  f1 = f1_score(pred_numpy, ans_numpy, average='macro')\n",
        "  recall = recall_score(pred_numpy, ans_numpy, average='macro')\n",
        "  precision = precision_score(pred_numpy, ans_numpy, average='macro')\n",
        "\n",
        "  return acc, f1, recall, precision\n"
      ],
      "id": "nOSkuPT7XyQ8"
    },
    {
      "cell_type": "code",
      "execution_count": 173,
      "metadata": {
        "id": "RuLxKpySXyQ-"
      },
      "outputs": [],
      "source": [
        "# save model to path\n",
        "def save_checkpoint(save_path, model):\n",
        "  if save_path == None:\n",
        "      return\n",
        "  torch.save(model.state_dict(), save_path)\n",
        "  print(f'Model saved to ==> {save_path}')\n",
        "\n",
        "# load model from path\n",
        "def load_checkpoint(load_path, model, device):    \n",
        "  if load_path==None:\n",
        "      return\n",
        "  state_dict = torch.load(load_path, map_location=device)\n",
        "  print(f'Model loaded from <== {load_path}')\n",
        "  \n",
        "  model.load_state_dict(state_dict)\n",
        "  return model"
      ],
      "id": "RuLxKpySXyQ-"
    },
    {
      "cell_type": "markdown",
      "metadata": {
        "id": "ioYB1sE_XyRA"
      },
      "source": [
        "## 載入資料\n",
        "\n",
        "這個資料集有分成train, test, unsupervised。\n",
        "\n",
        "這次我們只使用train及test資料，且我們需要將原資料重新進行分割。\n",
        "\n",
        "將兩份資料合併後切割成 3:1:1 或是 8:1:1 的 train/val/test 資料集。"
      ],
      "id": "ioYB1sE_XyRA"
    },
    {
      "cell_type": "code",
      "source": [
        "from datasets import load_dataset\n",
        "\n",
        "dataset = load_dataset(\"imdb\")"
      ],
      "metadata": {
        "colab": {
          "base_uri": "https://localhost:8080/",
          "referenced_widgets": [
            "2aaf8985b43b4448ac29d81bf1d198fb",
            "b52cf44d6f4a46959b1e4bf1ee082209",
            "6223acdc82d84cacbd3c5be829042f26",
            "16441619328c4dd481884bc1fb51b08d",
            "fc114611b1764b81beb3756bda9a923e",
            "c215bdd45ee549368d98425b4baf6ed1",
            "700913066e154d2db0eb2ca7e4d72ee0",
            "d07498e5e6e641e189b6d388a75e4c7d",
            "a9634844f4774c05a4b8f0c95de9b9cb",
            "c4a75a9d06a143499b2572e93ff255fd",
            "f481d245e42240edb583792598514fe9"
          ],
          "height": 66
        },
        "id": "r_mBNUdCA410",
        "outputId": "608b4965-d086-4cd6-a8cf-5c4d2a1ed6d3"
      },
      "id": "r_mBNUdCA410",
      "execution_count": 174,
      "outputs": [
        {
          "output_type": "stream",
          "name": "stderr",
          "text": [
            "WARNING:datasets.builder:Found cached dataset imdb (/root/.cache/huggingface/datasets/imdb/plain_text/1.0.0/d613c88cf8fa3bab83b4ded3713f1f74830d1100e171db75bbddb80b3345c9c0)\n"
          ]
        },
        {
          "output_type": "display_data",
          "data": {
            "text/plain": [
              "  0%|          | 0/3 [00:00<?, ?it/s]"
            ],
            "application/vnd.jupyter.widget-view+json": {
              "version_major": 2,
              "version_minor": 0,
              "model_id": "2aaf8985b43b4448ac29d81bf1d198fb"
            }
          },
          "metadata": {}
        }
      ]
    },
    {
      "cell_type": "markdown",
      "source": [
        "看一下資料格式長怎樣"
      ],
      "metadata": {
        "id": "07XTeYjcTen9"
      },
      "id": "07XTeYjcTen9"
    },
    {
      "cell_type": "code",
      "source": [
        "dataset"
      ],
      "metadata": {
        "colab": {
          "base_uri": "https://localhost:8080/"
        },
        "id": "JxuLKpupMejB",
        "outputId": "dd70d034-03a4-4527-d9c1-a318542404f8"
      },
      "id": "JxuLKpupMejB",
      "execution_count": 175,
      "outputs": [
        {
          "output_type": "execute_result",
          "data": {
            "text/plain": [
              "DatasetDict({\n",
              "    train: Dataset({\n",
              "        features: ['text', 'label'],\n",
              "        num_rows: 25000\n",
              "    })\n",
              "    test: Dataset({\n",
              "        features: ['text', 'label'],\n",
              "        num_rows: 25000\n",
              "    })\n",
              "    unsupervised: Dataset({\n",
              "        features: ['text', 'label'],\n",
              "        num_rows: 50000\n",
              "    })\n",
              "})"
            ]
          },
          "metadata": {},
          "execution_count": 175
        }
      ]
    },
    {
      "cell_type": "code",
      "source": [
        "dataset['train'][0]"
      ],
      "metadata": {
        "colab": {
          "base_uri": "https://localhost:8080/"
        },
        "id": "fkrrOqXdTaaE",
        "outputId": "4fe52e27-0d30-4fd8-9865-d9ebc7abd0df"
      },
      "id": "fkrrOqXdTaaE",
      "execution_count": 176,
      "outputs": [
        {
          "output_type": "execute_result",
          "data": {
            "text/plain": [
              "{'text': 'I rented I AM CURIOUS-YELLOW from my video store because of all the controversy that surrounded it when it was first released in 1967. I also heard that at first it was seized by U.S. customs if it ever tried to enter this country, therefore being a fan of films considered \"controversial\" I really had to see this for myself.<br /><br />The plot is centered around a young Swedish drama student named Lena who wants to learn everything she can about life. In particular she wants to focus her attentions to making some sort of documentary on what the average Swede thought about certain political issues such as the Vietnam War and race issues in the United States. In between asking politicians and ordinary denizens of Stockholm about their opinions on politics, she has sex with her drama teacher, classmates, and married men.<br /><br />What kills me about I AM CURIOUS-YELLOW is that 40 years ago, this was considered pornographic. Really, the sex and nudity scenes are few and far between, even then it\\'s not shot like some cheaply made porno. While my countrymen mind find it shocking, in reality sex and nudity are a major staple in Swedish cinema. Even Ingmar Bergman, arguably their answer to good old boy John Ford, had sex scenes in his films.<br /><br />I do commend the filmmakers for the fact that any sex shown in the film is shown for artistic purposes rather than just to shock people and make money to be shown in pornographic theaters in America. I AM CURIOUS-YELLOW is a good film for anyone wanting to study the meat and potatoes (no pun intended) of Swedish cinema. But really, this film doesn\\'t have much of a plot.',\n",
              " 'label': 0}"
            ]
          },
          "metadata": {},
          "execution_count": 176
        }
      ]
    },
    {
      "cell_type": "markdown",
      "source": [
        "* TODO3:把資料拿出來後，將train及test合併，重新切割後，儲存下來。"
      ],
      "metadata": {
        "id": "6JN_QzdbSR2I"
      },
      "id": "6JN_QzdbSR2I"
    },
    {
      "cell_type": "code",
      "source": [
        "from sklearn.model_selection import train_test_split\n",
        "from datasets import concatenate_datasets\n",
        "\n",
        "dataset_train = load_dataset(\"imdb\", split=\"train\")\n",
        "dataset_test = load_dataset(\"imdb\", split=\"test\")\n",
        "dataset_un = load_dataset(\"imdb\", split=\"unsupervised\")\n",
        "\n",
        "# 轉成dataframe\n",
        "train_data = pd.DataFrame(dataset_train)\n",
        "test_data = pd.DataFrame(dataset_test)\n",
        "\n",
        "all_df = pd.concat([train_data, test_data])\n",
        "\n",
        "all_df"
      ],
      "metadata": {
        "colab": {
          "base_uri": "https://localhost:8080/",
          "height": 476
        },
        "id": "PHWieZNXIos5",
        "outputId": "2a197f4a-b1a9-48cf-a183-26b57cec1618"
      },
      "id": "PHWieZNXIos5",
      "execution_count": 177,
      "outputs": [
        {
          "output_type": "stream",
          "name": "stderr",
          "text": [
            "WARNING:datasets.builder:Found cached dataset imdb (/root/.cache/huggingface/datasets/imdb/plain_text/1.0.0/d613c88cf8fa3bab83b4ded3713f1f74830d1100e171db75bbddb80b3345c9c0)\n",
            "WARNING:datasets.builder:Found cached dataset imdb (/root/.cache/huggingface/datasets/imdb/plain_text/1.0.0/d613c88cf8fa3bab83b4ded3713f1f74830d1100e171db75bbddb80b3345c9c0)\n",
            "WARNING:datasets.builder:Found cached dataset imdb (/root/.cache/huggingface/datasets/imdb/plain_text/1.0.0/d613c88cf8fa3bab83b4ded3713f1f74830d1100e171db75bbddb80b3345c9c0)\n"
          ]
        },
        {
          "output_type": "execute_result",
          "data": {
            "text/plain": [
              "                                                    text  label\n",
              "0      I rented I AM CURIOUS-YELLOW from my video sto...      0\n",
              "1      \"I Am Curious: Yellow\" is a risible and preten...      0\n",
              "2      If only to avoid making this type of film in t...      0\n",
              "3      This film was probably inspired by Godard's Ma...      0\n",
              "4      Oh, brother...after hearing about this ridicul...      0\n",
              "...                                                  ...    ...\n",
              "24995  Just got around to seeing Monster Man yesterda...      1\n",
              "24996  I got this as part of a competition prize. I w...      1\n",
              "24997  I got Monster Man in a box set of three films ...      1\n",
              "24998  Five minutes in, i started to feel how naff th...      1\n",
              "24999  I caught this movie on the Sci-Fi channel rece...      1\n",
              "\n",
              "[50000 rows x 2 columns]"
            ],
            "text/html": [
              "\n",
              "  <div id=\"df-93ce5641-9210-44b1-a0d2-222b75510f82\">\n",
              "    <div class=\"colab-df-container\">\n",
              "      <div>\n",
              "<style scoped>\n",
              "    .dataframe tbody tr th:only-of-type {\n",
              "        vertical-align: middle;\n",
              "    }\n",
              "\n",
              "    .dataframe tbody tr th {\n",
              "        vertical-align: top;\n",
              "    }\n",
              "\n",
              "    .dataframe thead th {\n",
              "        text-align: right;\n",
              "    }\n",
              "</style>\n",
              "<table border=\"1\" class=\"dataframe\">\n",
              "  <thead>\n",
              "    <tr style=\"text-align: right;\">\n",
              "      <th></th>\n",
              "      <th>text</th>\n",
              "      <th>label</th>\n",
              "    </tr>\n",
              "  </thead>\n",
              "  <tbody>\n",
              "    <tr>\n",
              "      <th>0</th>\n",
              "      <td>I rented I AM CURIOUS-YELLOW from my video sto...</td>\n",
              "      <td>0</td>\n",
              "    </tr>\n",
              "    <tr>\n",
              "      <th>1</th>\n",
              "      <td>\"I Am Curious: Yellow\" is a risible and preten...</td>\n",
              "      <td>0</td>\n",
              "    </tr>\n",
              "    <tr>\n",
              "      <th>2</th>\n",
              "      <td>If only to avoid making this type of film in t...</td>\n",
              "      <td>0</td>\n",
              "    </tr>\n",
              "    <tr>\n",
              "      <th>3</th>\n",
              "      <td>This film was probably inspired by Godard's Ma...</td>\n",
              "      <td>0</td>\n",
              "    </tr>\n",
              "    <tr>\n",
              "      <th>4</th>\n",
              "      <td>Oh, brother...after hearing about this ridicul...</td>\n",
              "      <td>0</td>\n",
              "    </tr>\n",
              "    <tr>\n",
              "      <th>...</th>\n",
              "      <td>...</td>\n",
              "      <td>...</td>\n",
              "    </tr>\n",
              "    <tr>\n",
              "      <th>24995</th>\n",
              "      <td>Just got around to seeing Monster Man yesterda...</td>\n",
              "      <td>1</td>\n",
              "    </tr>\n",
              "    <tr>\n",
              "      <th>24996</th>\n",
              "      <td>I got this as part of a competition prize. I w...</td>\n",
              "      <td>1</td>\n",
              "    </tr>\n",
              "    <tr>\n",
              "      <th>24997</th>\n",
              "      <td>I got Monster Man in a box set of three films ...</td>\n",
              "      <td>1</td>\n",
              "    </tr>\n",
              "    <tr>\n",
              "      <th>24998</th>\n",
              "      <td>Five minutes in, i started to feel how naff th...</td>\n",
              "      <td>1</td>\n",
              "    </tr>\n",
              "    <tr>\n",
              "      <th>24999</th>\n",
              "      <td>I caught this movie on the Sci-Fi channel rece...</td>\n",
              "      <td>1</td>\n",
              "    </tr>\n",
              "  </tbody>\n",
              "</table>\n",
              "<p>50000 rows × 2 columns</p>\n",
              "</div>\n",
              "      <button class=\"colab-df-convert\" onclick=\"convertToInteractive('df-93ce5641-9210-44b1-a0d2-222b75510f82')\"\n",
              "              title=\"Convert this dataframe to an interactive table.\"\n",
              "              style=\"display:none;\">\n",
              "        \n",
              "  <svg xmlns=\"http://www.w3.org/2000/svg\" height=\"24px\"viewBox=\"0 0 24 24\"\n",
              "       width=\"24px\">\n",
              "    <path d=\"M0 0h24v24H0V0z\" fill=\"none\"/>\n",
              "    <path d=\"M18.56 5.44l.94 2.06.94-2.06 2.06-.94-2.06-.94-.94-2.06-.94 2.06-2.06.94zm-11 1L8.5 8.5l.94-2.06 2.06-.94-2.06-.94L8.5 2.5l-.94 2.06-2.06.94zm10 10l.94 2.06.94-2.06 2.06-.94-2.06-.94-.94-2.06-.94 2.06-2.06.94z\"/><path d=\"M17.41 7.96l-1.37-1.37c-.4-.4-.92-.59-1.43-.59-.52 0-1.04.2-1.43.59L10.3 9.45l-7.72 7.72c-.78.78-.78 2.05 0 2.83L4 21.41c.39.39.9.59 1.41.59.51 0 1.02-.2 1.41-.59l7.78-7.78 2.81-2.81c.8-.78.8-2.07 0-2.86zM5.41 20L4 18.59l7.72-7.72 1.47 1.35L5.41 20z\"/>\n",
              "  </svg>\n",
              "      </button>\n",
              "      \n",
              "  <style>\n",
              "    .colab-df-container {\n",
              "      display:flex;\n",
              "      flex-wrap:wrap;\n",
              "      gap: 12px;\n",
              "    }\n",
              "\n",
              "    .colab-df-convert {\n",
              "      background-color: #E8F0FE;\n",
              "      border: none;\n",
              "      border-radius: 50%;\n",
              "      cursor: pointer;\n",
              "      display: none;\n",
              "      fill: #1967D2;\n",
              "      height: 32px;\n",
              "      padding: 0 0 0 0;\n",
              "      width: 32px;\n",
              "    }\n",
              "\n",
              "    .colab-df-convert:hover {\n",
              "      background-color: #E2EBFA;\n",
              "      box-shadow: 0px 1px 2px rgba(60, 64, 67, 0.3), 0px 1px 3px 1px rgba(60, 64, 67, 0.15);\n",
              "      fill: #174EA6;\n",
              "    }\n",
              "\n",
              "    [theme=dark] .colab-df-convert {\n",
              "      background-color: #3B4455;\n",
              "      fill: #D2E3FC;\n",
              "    }\n",
              "\n",
              "    [theme=dark] .colab-df-convert:hover {\n",
              "      background-color: #434B5C;\n",
              "      box-shadow: 0px 1px 3px 1px rgba(0, 0, 0, 0.15);\n",
              "      filter: drop-shadow(0px 1px 2px rgba(0, 0, 0, 0.3));\n",
              "      fill: #FFFFFF;\n",
              "    }\n",
              "  </style>\n",
              "\n",
              "      <script>\n",
              "        const buttonEl =\n",
              "          document.querySelector('#df-93ce5641-9210-44b1-a0d2-222b75510f82 button.colab-df-convert');\n",
              "        buttonEl.style.display =\n",
              "          google.colab.kernel.accessAllowed ? 'block' : 'none';\n",
              "\n",
              "        async function convertToInteractive(key) {\n",
              "          const element = document.querySelector('#df-93ce5641-9210-44b1-a0d2-222b75510f82');\n",
              "          const dataTable =\n",
              "            await google.colab.kernel.invokeFunction('convertToInteractive',\n",
              "                                                     [key], {});\n",
              "          if (!dataTable) return;\n",
              "\n",
              "          const docLinkHtml = 'Like what you see? Visit the ' +\n",
              "            '<a target=\"_blank\" href=https://colab.research.google.com/notebooks/data_table.ipynb>data table notebook</a>'\n",
              "            + ' to learn more about interactive tables.';\n",
              "          element.innerHTML = '';\n",
              "          dataTable['output_type'] = 'display_data';\n",
              "          await google.colab.output.renderOutput(dataTable, element);\n",
              "          const docLink = document.createElement('div');\n",
              "          docLink.innerHTML = docLinkHtml;\n",
              "          element.appendChild(docLink);\n",
              "        }\n",
              "      </script>\n",
              "    </div>\n",
              "  </div>\n",
              "  "
            ]
          },
          "metadata": {},
          "execution_count": 177
        }
      ]
    },
    {
      "cell_type": "markdown",
      "source": [
        "可以看一下兩個類別分布的比例"
      ],
      "metadata": {
        "id": "-15N5wI3zmJ_"
      },
      "id": "-15N5wI3zmJ_"
    },
    {
      "cell_type": "code",
      "source": [
        "all_df.label.value_counts() / len(all_df)"
      ],
      "metadata": {
        "colab": {
          "base_uri": "https://localhost:8080/"
        },
        "id": "mSQjyAzaoAJD",
        "outputId": "090e8bab-ee54-40bd-bcb5-1f5a89e90dd7"
      },
      "id": "mSQjyAzaoAJD",
      "execution_count": 178,
      "outputs": [
        {
          "output_type": "execute_result",
          "data": {
            "text/plain": [
              "0    0.5\n",
              "1    0.5\n",
              "Name: label, dtype: float64"
            ]
          },
          "metadata": {},
          "execution_count": 178
        }
      ]
    },
    {
      "cell_type": "code",
      "source": [
        "from sklearn.model_selection import train_test_split\n",
        "\n",
        "train_df, temp_data = train_test_split(all_df, random_state=1111, train_size=0.8)\n",
        "dev_df, test_df = train_test_split(temp_data, random_state=1111, train_size=0.5)\n",
        "print('# of train_df:', len(train_df))\n",
        "print('# of dev_df:', len(dev_df))\n",
        "print('# of test_df data:', len(test_df))\n",
        "\n",
        "# save data\n",
        "train_df.to_csv('./train.tsv', sep='\\t', index=False)\n",
        "dev_df.to_csv('./val.tsv', sep='\\t', index=False)\n",
        "test_df.to_csv('./test.tsv', sep='\\t', index=False)"
      ],
      "metadata": {
        "colab": {
          "base_uri": "https://localhost:8080/"
        },
        "id": "RhM_od5-Tpkc",
        "outputId": "e19df2a1-0d25-4a69-bcf1-2ed4db0c66c4"
      },
      "id": "RhM_od5-Tpkc",
      "execution_count": 179,
      "outputs": [
        {
          "output_type": "stream",
          "name": "stdout",
          "text": [
            "# of train_df: 40000\n",
            "# of dev_df: 5000\n",
            "# of test_df data: 5000\n"
          ]
        }
      ]
    },
    {
      "cell_type": "markdown",
      "metadata": {
        "id": "le1XiOWDXyRE"
      },
      "source": [
        "### 自定義 Dataset，將tokenzie的步驟放進去"
      ],
      "id": "le1XiOWDXyRE"
    },
    {
      "cell_type": "markdown",
      "source": [
        "* TODO4: 完成tokenize()\n",
        "> 我們會需要拿到該句話的 input_ids、attenntion_mask 及 token_type_ids。"
      ],
      "metadata": {
        "id": "BdDpKblL0aU9"
      },
      "id": "BdDpKblL0aU9"
    },
    {
      "cell_type": "code",
      "execution_count": 180,
      "metadata": {
        "id": "yvkBgVIhXyRF"
      },
      "outputs": [],
      "source": [
        "import torch\n",
        "from torch.utils.data import Dataset, DataLoader\n",
        "from transformers import AutoTokenizer\n",
        "import torch\n",
        "import torch.nn.functional as Fun\n",
        "\n",
        "# Using Dataset to build DataLoader\n",
        "class CustomDataset(Dataset):\n",
        "  def __init__(self, mode, df, specify, args):\n",
        "    assert mode in [\"train\", \"val\", \"test\"]  # 一般會切三份\n",
        "    self.mode = mode\n",
        "    self.df = df\n",
        "    self.specify = specify # specify column of data (the column U use for predict)\n",
        "    if self.mode != 'test':\n",
        "      self.label = df['label']\n",
        "    self.tokenizer = AutoTokenizer.from_pretrained(args[\"config\"])\n",
        "    self.max_len = args[\"max_len\"]\n",
        "    self.num_class = args[\"num_class\"]\n",
        "      \n",
        "  def __len__(self):\n",
        "    return len(self.df)\n",
        "\n",
        "  # transform label to one_hot label (if num_class > 2)\n",
        "  def one_hot_label(self, label):\n",
        "    return Fun.one_hot(torch.tensor(label), num_classes = self.num_class)\n",
        "  \n",
        "  # transform text to its number\n",
        "  def tokenize(self,input_text):\n",
        "    \n",
        "    encoded_dict = self.tokenizer.encode_plus(\n",
        "            input_text, \n",
        "            add_special_tokens=True, # 添加 [CLS] 和 [SEP] 标记\n",
        "            max_length = self.max_len, # 设定最大长度\n",
        "            pad_to_max_length = True, # 使用 padding 填充长度\n",
        "            return_attention_mask = True, # 返回 attention mask\n",
        "            return_token_type_ids=True, # 返回 token type ids\n",
        "            truncation=True, \n",
        "          )\n",
        "    \n",
        "    input_ids = encoded_dict['input_ids']\n",
        "    attention_mask = encoded_dict['attention_mask']\n",
        "    token_type_ids = encoded_dict['token_type_ids']\n",
        "\n",
        "    return input_ids, attention_mask, token_type_ids\n",
        "\n",
        "  # get single data\n",
        "  def __getitem__(self, index):\n",
        "      \n",
        "    sentence = str(self.df[self.specify][index])\n",
        "    ids, mask, token_type_ids = self.tokenize(sentence)\n",
        "    \n",
        "\n",
        "    if self.mode == \"test\":\n",
        "        return torch.tensor(ids, dtype=torch.long), torch.tensor(mask, dtype=torch.long), \\\n",
        "            torch.tensor(token_type_ids, dtype=torch.long)\n",
        "    else:\n",
        "        if self.num_class > 2:\n",
        "          return torch.tensor(ids, dtype=torch.long), torch.tensor(mask, dtype=torch.long), \\\n",
        "            torch.tensor(token_type_ids, dtype=torch.long), self.one_hot_label(self.label[index])\n",
        "        else:\n",
        "          return torch.tensor(ids, dtype=torch.long), torch.tensor(mask, dtype=torch.long), \\\n",
        "            torch.tensor(token_type_ids, dtype=torch.long), torch.tensor(self.label[index], dtype=torch.long)"
      ],
      "id": "yvkBgVIhXyRF"
    },
    {
      "cell_type": "markdown",
      "source": [
        "## 建立模型\n",
        "\n",
        "*   自己重新寫分類模型\n",
        "*   模型訓練與評估的程式碼大致上相同，差別在於模型是否繼續進行梯度下降，以及模型參數是否繼續訓練\n",
        "\n"
      ],
      "metadata": {
        "id": "RQsY2rjue4Tm"
      },
      "id": "RQsY2rjue4Tm"
    },
    {
      "cell_type": "markdown",
      "source": [
        "* TODO5: 完成BertClassifier\n",
        "> 在初始化的地方加上dropout, linear layer（等於一層NN），其維度為類別數量；\n",
        "> 在forward function中把輸入值放進對應層數（bert -> dropout -> classifier）；\n",
        "> 請注意我們只取用bert輸出的sentence representation去做分類"
      ],
      "metadata": {
        "id": "7Dgb-mW30jhI"
      },
      "id": "7Dgb-mW30jhI"
    },
    {
      "cell_type": "code",
      "execution_count": 181,
      "metadata": {
        "id": "suyj5WLJXyQ7"
      },
      "outputs": [],
      "source": [
        "# BERT Model\n",
        "class BertClassifier(BertPreTrainedModel):\n",
        "  def __init__(self, config, args):\n",
        "\n",
        "    super(BertClassifier, self).__init__(config)\n",
        "    self.bert = BertModel(config)\n",
        "    self.dropout = nn.Dropout(args[\"dropout\"])\n",
        "    self.classifier = nn.Linear(config.hidden_size, args[\"num_class\"])\n",
        "    self.init_weights()\n",
        "\n",
        "  # forward function, data in model will do this\n",
        "  def forward(self, input_ids=None, attention_mask=None, token_type_ids=None, position_ids=None, \n",
        "              head_mask=None, inputs_embeds=None, labels=None, output_attentions=None, \n",
        "              output_hidden_states=None, return_dict=None):\n",
        "  \n",
        "    outputs = self.bert(input_ids,\n",
        "                        attention_mask=attention_mask,\n",
        "                        token_type_ids=token_type_ids,\n",
        "                        position_ids=position_ids,\n",
        "                        head_mask=head_mask,\n",
        "                        inputs_embeds=inputs_embeds,\n",
        "                        output_attentions=output_attentions,\n",
        "                        output_hidden_states=output_hidden_states,\n",
        "                        return_dict=return_dict)\n",
        "    \n",
        "    pooled_output = outputs.pooler_output\n",
        "    pooled_output = self.dropout(pooled_output)\n",
        "    logits = self.classifier(pooled_output)\n",
        "\n",
        "    return logits\n",
        "    "
      ],
      "id": "suyj5WLJXyQ7"
    },
    {
      "cell_type": "markdown",
      "source": [
        "這是已經寫好的evaluate()，train()會跟他很像\n",
        "\n",
        "(# 在評估模型的時候，不需要梯度下降)"
      ],
      "metadata": {
        "id": "fmr97mUu2Zmt"
      },
      "id": "fmr97mUu2Zmt"
    },
    {
      "cell_type": "code",
      "execution_count": 182,
      "metadata": {
        "id": "_QVJaIv5XyQ9"
      },
      "outputs": [],
      "source": [
        "# evaluate dataloader\n",
        "def evaluate(model, data_loader, device):\n",
        "  val_loss, val_acc, val_f1, val_rec, val_prec = 0.0, 0.0, 0.0, 0.0, 0.0\n",
        "  step_count = 0\n",
        "  loss_fct = torch.nn.CrossEntropyLoss()\n",
        "  model.eval()\n",
        "  with torch.no_grad():\n",
        "    for data in data_loader:\n",
        "      ids, masks, token_type_ids, labels = [t.to(device) for t in data]\n",
        "\n",
        "      logits = model(input_ids = ids, \n",
        "              token_type_ids = token_type_ids, \n",
        "              attention_mask = masks)\n",
        "      acc, f1, rec, prec = cal_metrics(get_pred(logits), labels, 'macro')\n",
        "      loss = loss_fct(logits, labels)\n",
        "      \n",
        "      val_loss += loss.item()\n",
        "      val_acc += acc\n",
        "      val_f1 += f1\n",
        "      val_rec += rec\n",
        "      val_prec += prec\n",
        "      step_count+=1\n",
        "\n",
        "    val_loss = val_loss / step_count\n",
        "    val_acc = val_acc / step_count\n",
        "    val_f1 = val_f1 / step_count\n",
        "    val_rec = val_rec / step_count\n",
        "    val_prec = val_prec / step_count\n",
        "      \n",
        "  return val_loss, val_acc, val_f1, val_rec, val_prec"
      ],
      "id": "_QVJaIv5XyQ9"
    },
    {
      "cell_type": "markdown",
      "metadata": {
        "id": "4QTsH978XyRG"
      },
      "source": [
        "## 開始訓練"
      ],
      "id": "4QTsH978XyRG"
    },
    {
      "cell_type": "markdown",
      "metadata": {
        "id": "sAaBnWzTXyQ_"
      },
      "source": [
        "### 定義你的 Hyperparameters\n",
        "\n",
        "* 如果電腦的記憶體不夠可以試著減少 batch_size\n",
        "* 因為我們採用現有的模型去fine-tune，所以一般不需要設太多 epochs\n",
        "* config 就是我們所使用的現有模型，可以自己找適合的做替換\n",
        "* 這份 work 是做二分類，所以 num_class 為 2\n",
        "* 如果你的模型 overfit 了，可以把 dropout 調高\n",
        "* 可以試著調高或調低 learning_rate，這會影響他的學習速度（跨步的大小）\n",
        "* 你應該先檢閱你的資料再來決定 max_len （但 BERT 最大只吃到 512）"
      ],
      "id": "sAaBnWzTXyQ_"
    },
    {
      "cell_type": "code",
      "source": [
        "from datetime import datetime\n",
        "parameters = {\n",
        "    \"num_class\": 2,\n",
        "    \"time\": str(datetime.now()).replace(\" \", \"_\"),\n",
        "    # Hyperparameters\n",
        "    \"model_name\": 'BERT',\n",
        "    \"config\": 'bert-base-uncased',\n",
        "    \"learning_rate\": 1e-4,\n",
        "    \"epochs\": 3,\n",
        "    \"max_len\": 512,\n",
        "    \"batch_size\": 16,\n",
        "    \"dropout\": 0.1,\n",
        "}"
      ],
      "metadata": {
        "id": "Jaui0JY50LR_"
      },
      "id": "Jaui0JY50LR_",
      "execution_count": 183,
      "outputs": []
    },
    {
      "cell_type": "markdown",
      "source": [
        "### 載入資料\n",
        "\n",
        "讀入資料並傳入自訂的Dataset以自訂資料格式\n",
        "\n",
        "之後傳入DataLoader以利後續訓練進行（將資料批次化以免記憶體爆掉）\n",
        "\n",
        "(# 你可以決定要sample部分資料還是全部都丟進去)"
      ],
      "metadata": {
        "id": "IJpQ20GSZOoV"
      },
      "id": "IJpQ20GSZOoV"
    },
    {
      "cell_type": "code",
      "execution_count": 184,
      "metadata": {
        "id": "W0t0NVOAXyRG"
      },
      "outputs": [],
      "source": [
        "import transformers\n",
        "import pandas as pd\n",
        "\n",
        "# load training data\n",
        "train_df = pd.read_csv('./train.tsv', sep = '\\t').sample(4000).reset_index(drop=True) \n",
        "train_dataset = CustomDataset('train', train_df, 'text', parameters)\n",
        "train_loader = DataLoader(train_dataset, batch_size=parameters['batch_size'], shuffle=True)\n",
        "\n",
        "# load validation data\n",
        "val_df = pd.read_csv('./val.tsv', sep = '\\t').sample(500).reset_index(drop=True) \n",
        "val_dataset = CustomDataset('val', val_df, 'text', parameters)\n",
        "val_loader = DataLoader(val_dataset, batch_size=parameters['batch_size'], shuffle=True)"
      ],
      "id": "W0t0NVOAXyRG"
    },
    {
      "cell_type": "markdown",
      "source": [
        "### 初始化模型\n",
        "*   載入模型（這邊會使用已經訓練過的模型，Fine-tune我們的資料集）\n",
        "*   定義Optimization\n",
        "  *   通常用Adam就可以了，你也可以換SGD之類的試看看\n",
        "  *   可以自己看需不需要加scheduler（可以自己寫一個function，也可以直接套用現有的function）\n",
        "  \n",
        "  ［請記得pytorch中是以step去計算，想要用epoch去訂定需自行換算］\n",
        "\n",
        "\n"
      ],
      "metadata": {
        "id": "nMZ8wEyjab68"
      },
      "id": "nMZ8wEyjab68"
    },
    {
      "cell_type": "code",
      "source": [
        "transformers.logging.set_verbosity_error() # close the warning message\n",
        "\n",
        "device = torch.device(\"cuda\" if torch.cuda.is_available() else \"cpu\")\n",
        "model = BertClassifier.from_pretrained(parameters['config'], parameters).to(device)\n",
        "loss_fct = torch.nn.CrossEntropyLoss() # we use cross entrophy loss\n",
        "\n",
        "## You can custom your optimizer (e.g. SGD .etc) ##\n",
        "# we use Adam here\n",
        "optimizer = torch.optim.Adam(model.parameters(), lr=parameters['learning_rate'], betas=(0.9, 0.999), eps=1e-9)\n",
        "\n",
        "## You also can add your custom scheduler ##\n",
        "# num_train_steps = len(train_loader) * parameters['epochs]\n",
        "# scheduler = get_cosine_schedule_with_warmup(optimizer, num_warmup_steps=int(0.1 * num_train_steps), num_training_steps=num_train_steps, num_cycles=1)"
      ],
      "metadata": {
        "id": "5D7NzvuGaZfY"
      },
      "id": "5D7NzvuGaZfY",
      "execution_count": 185,
      "outputs": []
    },
    {
      "cell_type": "markdown",
      "source": [
        "* 因為是做分類任務，所以這裡用CrossEntrophyLoss\n",
        "* 由於在pytorch中，CrossEntrophyLoss吃的input是未經softmax的值，所以在模型中不必加入softmax\n",
        "* 但若在後期想取得各類別實際機率就要經過softmax轉換\n",
        "* logits的數值不等於機率 ！！但一般而言，logits中較大者會與經過softmax轉換後的結果一致"
      ],
      "metadata": {
        "id": "LmyDpsHc3rRN"
      },
      "id": "LmyDpsHc3rRN"
    },
    {
      "cell_type": "markdown",
      "source": [
        "* TODO6: 完成訓練，可參照evaluate()並稍作調整以完成訓練"
      ],
      "metadata": {
        "id": "wtThctN23VIS"
      },
      "id": "wtThctN23VIS"
    },
    {
      "cell_type": "code",
      "execution_count": 186,
      "metadata": {
        "colab": {
          "base_uri": "https://localhost:8080/"
        },
        "id": "BUX_aw7hXyRH",
        "outputId": "89577dd3-8488-44e8-cb5c-c6707386911e"
      },
      "outputs": [
        {
          "output_type": "stream",
          "name": "stdout",
          "text": [
            "[epoch 1] cost time: 97.1443 s\n",
            "         loss     acc     f1      rec    prec\n",
            "train | 0.4355, 0.7887, 0.7567, 0.7833, 0.7889\n",
            "val  | 0.3080, 0.8691, 0.8640, 0.8721, 0.8656\n",
            "\n",
            "[epoch 2] cost time: 96.8752 s\n",
            "         loss     acc     f1      rec    prec\n",
            "train | 0.2219, 0.9223, 0.9173, 0.9280, 0.9233\n",
            "val  | 0.5649, 0.8105, 0.7938, 0.8509, 0.8106\n",
            "\n",
            "[epoch 3] cost time: 96.9019 s\n",
            "         loss     acc     f1      rec    prec\n",
            "train | 0.1406, 0.9567, 0.9540, 0.9600, 0.9569\n",
            "val  | 0.4567, 0.8652, 0.8609, 0.8747, 0.8695\n",
            "\n"
          ]
        }
      ],
      "source": [
        "# Start training\n",
        "import time\n",
        "metrics = ['loss', 'acc', 'f1', 'rec', 'prec']\n",
        "mode = ['train_', 'val_']\n",
        "record = {s+m :[] for s in mode for m in metrics}\n",
        "\n",
        "for epoch in range(parameters[\"epochs\"]):\n",
        "\n",
        "    st_time = time.time()\n",
        "    train_loss, train_acc, train_f1, train_rec, train_prec = 0.0, 0.0, 0.0, 0.0, 0.0\n",
        "    step_count = 0\n",
        "\n",
        "    for data in train_loader:\n",
        "      ids, masks, token_type_ids, labels = [t.to(device) for t in data]\n",
        "      optimizer.zero_grad()\n",
        "      logits = model(input_ids = ids, \n",
        "              token_type_ids = token_type_ids, \n",
        "              attention_mask = masks, \n",
        "              labels=labels)\n",
        "      \n",
        "      loss = loss_fct(logits, labels)\n",
        "      acc, f1, rec, prec = cal_metrics(get_pred(logits), labels, 'macro')\n",
        "      \n",
        "      train_loss += loss.item()\n",
        "      train_f1 += f1\n",
        "      train_rec += rec\n",
        "      train_prec += prec\n",
        "      step_count+=1\n",
        "      train_acc+= acc\n",
        "      loss.backward()\n",
        "      optimizer.step()\n",
        "\n",
        "\n",
        "    # evaluate the model performace on val data after finishing an epoch training \n",
        "    val_loss, val_acc, val_f1, val_rec, val_prec = evaluate(model, val_loader, device)\n",
        "\n",
        "    train_loss = train_loss / step_count\n",
        "    train_acc = train_acc / step_count\n",
        "    train_f1 = train_f1 / step_count\n",
        "    train_rec = train_rec / step_count\n",
        "    train_prec = train_prec / step_count\n",
        "\n",
        "    print('[epoch %d] cost time: %.4f s'%(epoch + 1, time.time() - st_time))\n",
        "    print('         loss     acc     f1      rec    prec')\n",
        "    print('train | %.4f, %.4f, %.4f, %.4f, %.4f'%(train_loss, train_acc, train_f1, train_rec, train_prec))\n",
        "    print('val  | %.4f, %.4f, %.4f, %.4f, %.4f\\n'%(val_loss, val_acc, val_f1, val_rec, val_prec))\n",
        "\n",
        "    # record training metrics of each training epoch\n",
        "    record['train_loss'].append(train_loss)\n",
        "    record['train_acc'].append(train_acc)\n",
        "    record['train_f1'].append(train_f1)\n",
        "    record['train_rec'].append(train_rec)\n",
        "    record['train_prec'].append(train_prec)\n",
        "\n",
        "    record['val_loss'].append(val_loss)\n",
        "    record['val_acc'].append(val_acc)\n",
        "    record['val_f1'].append(val_f1)\n",
        "    record['val_rec'].append(val_rec)\n",
        "    record['val_prec'].append(val_prec)"
      ],
      "id": "BUX_aw7hXyRH"
    },
    {
      "cell_type": "code",
      "execution_count": 187,
      "metadata": {
        "colab": {
          "base_uri": "https://localhost:8080/"
        },
        "id": "YHTX3ycLXyRH",
        "outputId": "6c8b2576-93e4-4b57-d2be-d91be2ab2935"
      },
      "outputs": [
        {
          "output_type": "stream",
          "name": "stdout",
          "text": [
            "Model saved to ==> ./bert.pt\n"
          ]
        }
      ],
      "source": [
        "# save model\n",
        "save_checkpoint('./bert.pt' , model)"
      ],
      "id": "YHTX3ycLXyRH"
    },
    {
      "cell_type": "markdown",
      "source": [
        "### 畫圖"
      ],
      "metadata": {
        "id": "RHzv2n2E5Zex"
      },
      "id": "RHzv2n2E5Zex"
    },
    {
      "cell_type": "code",
      "execution_count": 188,
      "metadata": {
        "id": "HtQra69-XyRI"
      },
      "outputs": [],
      "source": [
        "# draw learning curve\n",
        "import matplotlib.pyplot as plt\n",
        "def draw_pics(record, name, img_save=False, show=False):\n",
        "    x_ticks = range(1, parameters[\"epochs\"]+1)\n",
        "    \n",
        "    plt.figure(figsize=(6, 3))\n",
        "\n",
        "    plt.plot(x_ticks, record['train_'+name], '-o', color='lightskyblue', \n",
        "             markeredgecolor=\"teal\", markersize=3, markeredgewidth=1, label = 'Train')\n",
        "    plt.plot(x_ticks, record['val_'+name], '-o', color='pink', \n",
        "             markeredgecolor=\"salmon\", markersize=3, markeredgewidth=1, label = 'Val')\n",
        "    plt.grid(color='lightgray', linestyle='--', linewidth=1)\n",
        "    \n",
        "    plt.title('Model', fontsize=14)\n",
        "    plt.ylabel(name, fontsize=12)\n",
        "    plt.xlabel('Epoch', fontsize=12)\n",
        "    plt.xticks(x_ticks, fontsize=12)\n",
        "    plt.yticks(fontsize=12)\n",
        "    plt.legend(loc='lower right' if not name.lower().endswith('loss') else 'upper right')\n",
        "    \n",
        "    if img_save:\n",
        "        plt.savefig(name+'.png', transparent=False, dpi=300)\n",
        "    if show:\n",
        "        plt.show()\n",
        "        \n",
        "    plt.close()"
      ],
      "id": "HtQra69-XyRI"
    },
    {
      "cell_type": "code",
      "execution_count": 189,
      "metadata": {
        "colab": {
          "base_uri": "https://localhost:8080/",
          "height": 342
        },
        "id": "RKEdRFDzXyRI",
        "outputId": "df2cc63d-0138-42e3-d07a-44bd4cf78952"
      },
      "outputs": [
        {
          "output_type": "display_data",
          "data": {
            "text/plain": [
              "<Figure size 600x300 with 1 Axes>"
            ],
            "image/png": "[encoded data removed]"
          },
          "metadata": {}
        }
      ],
      "source": [
        "draw_pics(record, 'loss', img_save=False, show=True)"
      ],
      "id": "RKEdRFDzXyRI"
    },
    {
      "cell_type": "code",
      "execution_count": 190,
      "metadata": {
        "colab": {
          "base_uri": "https://localhost:8080/",
          "height": 342
        },
        "id": "-gjV5dGCXyRI",
        "outputId": "03ae182b-1872-45bf-d312-422ed03ea8b2"
      },
      "outputs": [
        {
          "output_type": "display_data",
          "data": {
            "text/plain": [
              "<Figure size 600x300 with 1 Axes>"
            ],
            "image/png": "[encoded data removed]"
          },
          "metadata": {}
        }
      ],
      "source": [
        "draw_pics(record, 'acc', img_save=False, show=True)"
      ],
      "id": "-gjV5dGCXyRI"
    },
    {
      "cell_type": "code",
      "source": [
        "draw_pics(record, 'f1', img_save=False, show=True)"
      ],
      "metadata": {
        "colab": {
          "base_uri": "https://localhost:8080/",
          "height": 342
        },
        "id": "6Ej8ffuKDRwZ",
        "outputId": "62a47e6b-bcac-4fc1-c01d-70e0fb7f2fd2"
      },
      "id": "6Ej8ffuKDRwZ",
      "execution_count": 191,
      "outputs": [
        {
          "output_type": "display_data",
          "data": {
            "text/plain": [
              "<Figure size 600x300 with 1 Axes>"
            ],
            "image/png": "[encoded data removed]"
          },
          "metadata": {}
        }
      ]
    },
    {
      "cell_type": "code",
      "source": [
        "draw_pics(record, 'rec', img_save=False, show=True)"
      ],
      "metadata": {
        "colab": {
          "base_uri": "https://localhost:8080/",
          "height": 342
        },
        "id": "F2xU_13LDlWa",
        "outputId": "add1b257-9b4e-4858-df5c-e31584c78ff2"
      },
      "id": "F2xU_13LDlWa",
      "execution_count": 192,
      "outputs": [
        {
          "output_type": "display_data",
          "data": {
            "text/plain": [
              "<Figure size 600x300 with 1 Axes>"
            ],
            "image/png": "[encoded data removed]"
          },
          "metadata": {}
        }
      ]
    },
    {
      "cell_type": "code",
      "source": [
        "draw_pics(record, 'prec', img_save=False, show=True)"
      ],
      "metadata": {
        "colab": {
          "base_uri": "https://localhost:8080/",
          "height": 342
        },
        "id": "lNDEyPWJDgIS",
        "outputId": "d0f193f2-d6f9-4796-ad34-b9b5efcf209d"
      },
      "id": "lNDEyPWJDgIS",
      "execution_count": 193,
      "outputs": [
        {
          "output_type": "display_data",
          "data": {
            "text/plain": [
              "<Figure size 600x300 with 1 Axes>"
            ],
            "image/png": "[encoded data removed]"
          },
          "metadata": {}
        }
      ]
    },
    {
      "cell_type": "markdown",
      "metadata": {
        "id": "A6GLT9fOXyRJ"
      },
      "source": [
        "## 預測結果"
      ],
      "id": "A6GLT9fOXyRJ"
    },
    {
      "cell_type": "markdown",
      "metadata": {
        "id": "NXV9nz2RXyRJ"
      },
      "source": [
        "預測單筆（跟評估的程式大同小異）\n",
        "\n",
        "\n"
      ],
      "id": "NXV9nz2RXyRJ"
    },
    {
      "cell_type": "code",
      "execution_count": 194,
      "metadata": {
        "id": "BEjRQrsnXyRJ"
      },
      "outputs": [],
      "source": [
        "def Softmax(x):\n",
        "  return torch.exp(x) / torch.exp(x).sum()\n",
        "# label to class\n",
        "def label2class(label):\n",
        "  l2c = {0:'negative', 1:'positive'}\n",
        "  return l2c[label]"
      ],
      "id": "BEjRQrsnXyRJ"
    },
    {
      "cell_type": "markdown",
      "source": [
        "* TODO7: 完成predict_one()"
      ],
      "metadata": {
        "id": "8xYoz3EW6m7x"
      },
      "id": "8xYoz3EW6m7x"
    },
    {
      "cell_type": "code",
      "execution_count": 195,
      "metadata": {
        "id": "a4D4Z9-8XyRK"
      },
      "outputs": [],
      "source": [
        "# predict single sentence, return each-class's probability and predicted class\n",
        "def predict_one(query, model):\n",
        "\n",
        "  tokenizer = AutoTokenizer.from_pretrained(parameters['config'])\n",
        "  device = torch.device(\"cuda\" if torch.cuda.is_available() else \"cpu\")\n",
        "\n",
        "  encoded_dict = tokenizer.encode_plus(\n",
        "                    query,                     \n",
        "                    add_special_tokens = True, \n",
        "                    max_length = 512,           \n",
        "                    padding = 'max_length',\n",
        "                    return_attention_mask = True,   \n",
        "                    return_tensors = 'pt',     \n",
        "               )\n",
        "  \n",
        "  input_ids = encoded_dict['input_ids'].to(device)\n",
        "  attention_mask = encoded_dict['attention_mask'].to(device)\n",
        "  token_type_ids = encoded_dict['token_type_ids'].to(device)\n",
        "\n",
        "  \n",
        "  with torch.no_grad():\n",
        "    logits = model(input_ids, attention_mask, token_type_ids)\n",
        "    probs = Softmax(logits) \n",
        "    label_index = torch.argmax(probs[0], dim=0)\n",
        "    pred = label_index.item()\n",
        "\n",
        "  \n",
        "  return probs, pred"
      ],
      "id": "a4D4Z9-8XyRK"
    },
    {
      "cell_type": "code",
      "execution_count": 196,
      "metadata": {
        "colab": {
          "base_uri": "https://localhost:8080/"
        },
        "id": "egfecB7sXyRK",
        "outputId": "a5c194c0-e9be-46e8-88b3-88bea4e2b1ce"
      },
      "outputs": [
        {
          "output_type": "stream",
          "name": "stdout",
          "text": [
            "Model loaded from <== ./bert.pt\n"
          ]
        }
      ],
      "source": [
        "# you can load model from existing result\n",
        "device = torch.device(\"cuda\" if torch.cuda.is_available() else \"cpu\")\n",
        "init_model = BertClassifier.from_pretrained(parameters['config'], parameters) # build an initial model\n",
        "model = load_checkpoint('./bert.pt', init_model, device).to(device) # and load the weight of model from specify file"
      ],
      "id": "egfecB7sXyRK"
    },
    {
      "cell_type": "code",
      "execution_count": 197,
      "metadata": {
        "colab": {
          "base_uri": "https://localhost:8080/"
        },
        "id": "0BowzmKvXyRK",
        "outputId": "a848fa23-e1ef-4f0e-a610-b7a20eea9b07"
      },
      "outputs": [
        {
          "output_type": "stream",
          "name": "stdout",
          "text": [
            "negative\n",
            "CPU times: user 61.2 ms, sys: 1 µs, total: 61.2 ms\n",
            "Wall time: 152 ms\n"
          ]
        }
      ],
      "source": [
        "%%time\n",
        "probs, pred = predict_one(\"This movie doesn't attract me\", model)\n",
        "print(label2class(pred))"
      ],
      "id": "0BowzmKvXyRK"
    },
    {
      "cell_type": "markdown",
      "source": [
        "你也可以像evaluate function一樣，把它寫成dataloader的形式"
      ],
      "metadata": {
        "id": "jW7WgMK-5UXJ"
      },
      "id": "jW7WgMK-5UXJ"
    },
    {
      "cell_type": "code",
      "execution_count": 198,
      "metadata": {
        "id": "c0s5Da92XyRN"
      },
      "outputs": [],
      "source": [
        "# predict dataloader\n",
        "def predict(data_loader, model):\n",
        "\n",
        "  tokenizer = AutoTokenizer.from_pretrained(parameters['config'])\n",
        "  device = torch.device(\"cuda\" if torch.cuda.is_available() else \"cpu\")\n",
        "\n",
        "  total_probs, total_pred = [], []\n",
        "  model.eval()\n",
        "  with torch.no_grad():\n",
        "    for data in data_loader:\n",
        "      input_ids, attention_mask, \\\n",
        "      token_type_ids = [t.to(device) for t in data]\n",
        "\n",
        "      # forward pass\n",
        "      logits = model(input_ids, attention_mask, token_type_ids)\n",
        "      probs = Softmax(logits) # get each class-probs\n",
        "      label_index = torch.argmax(probs[0], dim=0)\n",
        "      pred = label_index.item()\n",
        "\n",
        "      total_probs.append(probs)\n",
        "      total_pred.append(pred)\n",
        "\n",
        "  return total_probs, total_pred"
      ],
      "id": "c0s5Da92XyRN"
    },
    {
      "cell_type": "code",
      "execution_count": 199,
      "metadata": {
        "id": "lPkXV9J5XyRN"
      },
      "outputs": [],
      "source": [
        "# load testing data\n",
        "test_df = pd.read_csv('./test.tsv', sep = '\\t').sample(500).reset_index(drop=True) \n",
        "test_dataset = CustomDataset('test', test_df, 'text', parameters)\n",
        "test_loader = DataLoader(test_dataset, batch_size=1, shuffle=False)\n",
        "\n",
        "total_probs, total_pred = predict(test_loader, model)\n",
        "res = test_df.copy()\n",
        "# add predict class of origin file \n",
        "res['pred'] = total_pred\n",
        "\n",
        "# save result\n",
        "res.to_csv('./result.tsv', sep='\\t', index=False)"
      ],
      "id": "lPkXV9J5XyRN"
    },
    {
      "cell_type": "code",
      "source": [
        "res.head(5)"
      ],
      "metadata": {
        "colab": {
          "base_uri": "https://localhost:8080/",
          "height": 206
        },
        "id": "e8R4lQHVCBw7",
        "outputId": "518e183f-0d8e-421d-9800-b9cb7ac54408"
      },
      "id": "e8R4lQHVCBw7",
      "execution_count": 200,
      "outputs": [
        {
          "output_type": "execute_result",
          "data": {
            "text/plain": [
              "                                                text  label  pred\n",
              "0  Eglimata (= Crimes) is a story about little cr...      1     0\n",
              "1  What exactly do people expect when they watch ...      1     0\n",
              "2  Paul Verhoeven has one of the strangest oeuvre...      1     1\n",
              "3  The plot for Descent, if it actually can be ca...      0     0\n",
              "4  Her embalmed look was totally inappropriate fo...      0     0"
            ],
            "text/html": [
              "\n",
              "  <div id=\"df-69a6e45f-a637-4f61-9051-b95ee83ce6aa\">\n",
              "    <div class=\"colab-df-container\">\n",
              "      <div>\n",
              "<style scoped>\n",
              "    .dataframe tbody tr th:only-of-type {\n",
              "        vertical-align: middle;\n",
              "    }\n",
              "\n",
              "    .dataframe tbody tr th {\n",
              "        vertical-align: top;\n",
              "    }\n",
              "\n",
              "    .dataframe thead th {\n",
              "        text-align: right;\n",
              "    }\n",
              "</style>\n",
              "<table border=\"1\" class=\"dataframe\">\n",
              "  <thead>\n",
              "    <tr style=\"text-align: right;\">\n",
              "      <th></th>\n",
              "      <th>text</th>\n",
              "      <th>label</th>\n",
              "      <th>pred</th>\n",
              "    </tr>\n",
              "  </thead>\n",
              "  <tbody>\n",
              "    <tr>\n",
              "      <th>0</th>\n",
              "      <td>Eglimata (= Crimes) is a story about little cr...</td>\n",
              "      <td>1</td>\n",
              "      <td>0</td>\n",
              "    </tr>\n",
              "    <tr>\n",
              "      <th>1</th>\n",
              "      <td>What exactly do people expect when they watch ...</td>\n",
              "      <td>1</td>\n",
              "      <td>0</td>\n",
              "    </tr>\n",
              "    <tr>\n",
              "      <th>2</th>\n",
              "      <td>Paul Verhoeven has one of the strangest oeuvre...</td>\n",
              "      <td>1</td>\n",
              "      <td>1</td>\n",
              "    </tr>\n",
              "    <tr>\n",
              "      <th>3</th>\n",
              "      <td>The plot for Descent, if it actually can be ca...</td>\n",
              "      <td>0</td>\n",
              "      <td>0</td>\n",
              "    </tr>\n",
              "    <tr>\n",
              "      <th>4</th>\n",
              "      <td>Her embalmed look was totally inappropriate fo...</td>\n",
              "      <td>0</td>\n",
              "      <td>0</td>\n",
              "    </tr>\n",
              "  </tbody>\n",
              "</table>\n",
              "</div>\n",
              "      <button class=\"colab-df-convert\" onclick=\"convertToInteractive('df-69a6e45f-a637-4f61-9051-b95ee83ce6aa')\"\n",
              "              title=\"Convert this dataframe to an interactive table.\"\n",
              "              style=\"display:none;\">\n",
              "        \n",
              "  <svg xmlns=\"http://www.w3.org/2000/svg\" height=\"24px\"viewBox=\"0 0 24 24\"\n",
              "       width=\"24px\">\n",
              "    <path d=\"M0 0h24v24H0V0z\" fill=\"none\"/>\n",
              "    <path d=\"M18.56 5.44l.94 2.06.94-2.06 2.06-.94-2.06-.94-.94-2.06-.94 2.06-2.06.94zm-11 1L8.5 8.5l.94-2.06 2.06-.94-2.06-.94L8.5 2.5l-.94 2.06-2.06.94zm10 10l.94 2.06.94-2.06 2.06-.94-2.06-.94-.94-2.06-.94 2.06-2.06.94z\"/><path d=\"M17.41 7.96l-1.37-1.37c-.4-.4-.92-.59-1.43-.59-.52 0-1.04.2-1.43.59L10.3 9.45l-7.72 7.72c-.78.78-.78 2.05 0 2.83L4 21.41c.39.39.9.59 1.41.59.51 0 1.02-.2 1.41-.59l7.78-7.78 2.81-2.81c.8-.78.8-2.07 0-2.86zM5.41 20L4 18.59l7.72-7.72 1.47 1.35L5.41 20z\"/>\n",
              "  </svg>\n",
              "      </button>\n",
              "      \n",
              "  <style>\n",
              "    .colab-df-container {\n",
              "      display:flex;\n",
              "      flex-wrap:wrap;\n",
              "      gap: 12px;\n",
              "    }\n",
              "\n",
              "    .colab-df-convert {\n",
              "      background-color: #E8F0FE;\n",
              "      border: none;\n",
              "      border-radius: 50%;\n",
              "      cursor: pointer;\n",
              "      display: none;\n",
              "      fill: #1967D2;\n",
              "      height: 32px;\n",
              "      padding: 0 0 0 0;\n",
              "      width: 32px;\n",
              "    }\n",
              "\n",
              "    .colab-df-convert:hover {\n",
              "      background-color: #E2EBFA;\n",
              "      box-shadow: 0px 1px 2px rgba(60, 64, 67, 0.3), 0px 1px 3px 1px rgba(60, 64, 67, 0.15);\n",
              "      fill: #174EA6;\n",
              "    }\n",
              "\n",
              "    [theme=dark] .colab-df-convert {\n",
              "      background-color: #3B4455;\n",
              "      fill: #D2E3FC;\n",
              "    }\n",
              "\n",
              "    [theme=dark] .colab-df-convert:hover {\n",
              "      background-color: #434B5C;\n",
              "      box-shadow: 0px 1px 3px 1px rgba(0, 0, 0, 0.15);\n",
              "      filter: drop-shadow(0px 1px 2px rgba(0, 0, 0, 0.3));\n",
              "      fill: #FFFFFF;\n",
              "    }\n",
              "  </style>\n",
              "\n",
              "      <script>\n",
              "        const buttonEl =\n",
              "          document.querySelector('#df-69a6e45f-a637-4f61-9051-b95ee83ce6aa button.colab-df-convert');\n",
              "        buttonEl.style.display =\n",
              "          google.colab.kernel.accessAllowed ? 'block' : 'none';\n",
              "\n",
              "        async function convertToInteractive(key) {\n",
              "          const element = document.querySelector('#df-69a6e45f-a637-4f61-9051-b95ee83ce6aa');\n",
              "          const dataTable =\n",
              "            await google.colab.kernel.invokeFunction('convertToInteractive',\n",
              "                                                     [key], {});\n",
              "          if (!dataTable) return;\n",
              "\n",
              "          const docLinkHtml = 'Like what you see? Visit the ' +\n",
              "            '<a target=\"_blank\" href=https://colab.research.google.com/notebooks/data_table.ipynb>data table notebook</a>'\n",
              "            + ' to learn more about interactive tables.';\n",
              "          element.innerHTML = '';\n",
              "          dataTable['output_type'] = 'display_data';\n",
              "          await google.colab.output.renderOutput(dataTable, element);\n",
              "          const docLink = document.createElement('div');\n",
              "          docLink.innerHTML = docLinkHtml;\n",
              "          element.appendChild(docLink);\n",
              "        }\n",
              "      </script>\n",
              "    </div>\n",
              "  </div>\n",
              "  "
            ]
          },
          "metadata": {},
          "execution_count": 200
        }
      ]
    },
    {
      "cell_type": "code",
      "source": [
        "correct = 0\n",
        "for idx, pred in enumerate(res['pred']):\n",
        "  if pred == res['label'][idx]:\n",
        "    correct += 1\n",
        "print('test accuracy = %.4f'%(correct/len(test_df)))"
      ],
      "metadata": {
        "colab": {
          "base_uri": "https://localhost:8080/"
        },
        "id": "FDwvwbIokiq-",
        "outputId": "416211af-c612-4bfa-f388-1f3b63955fa6"
      },
      "id": "FDwvwbIokiq-",
      "execution_count": 201,
      "outputs": [
        {
          "output_type": "stream",
          "name": "stdout",
          "text": [
            "test accuracy = 0.8560\n"
          ]
        }
      ]
    }
  ],
  "metadata": {
    "kernelspec": {
      "display_name": "Python 3",
      "language": "python",
      "name": "python3"
    },
    "language_info": {
      "codemirror_mode": {
        "name": "ipython",
        "version": 3
      },
      "file_extension": ".py",
      "mimetype": "text/x-python",
      "name": "python",
      "nbconvert_exporter": "python",
      "pygments_lexer": "ipython3",
      "version": "3.8.5"
    },
    "colab": {
      "provenance": []
    },
    "accelerator": "GPU",
    "gpuClass": "premium",
    "widgets": {
      "application/vnd.jupyter.widget-state+json": {
        "2aaf8985b43b4448ac29d81bf1d198fb": {
          "model_module": "@jupyter-widgets/controls",
          "model_name": "HBoxModel",
          "model_module_version": "1.5.0",
          "state": {
            "_dom_classes": [],
            "_model_module": "@jupyter-widgets/controls",
            "_model_module_version": "1.5.0",
            "_model_name": "HBoxModel",
            "_view_count": null,
            "_view_module": "@jupyter-widgets/controls",
            "_view_module_version": "1.5.0",
            "_view_name": "HBoxView",
            "box_style": "",
            "children": [
              "IPY_MODEL_b52cf44d6f4a46959b1e4bf1ee082209",
              "IPY_MODEL_6223acdc82d84cacbd3c5be829042f26",
              "IPY_MODEL_16441619328c4dd481884bc1fb51b08d"
            ],
            "layout": "IPY_MODEL_fc114611b1764b81beb3756bda9a923e"
          }
        },
        "b52cf44d6f4a46959b1e4bf1ee082209": {
          "model_module": "@jupyter-widgets/controls",
          "model_name": "HTMLModel",
          "model_module_version": "1.5.0",
          "state": {
            "_dom_classes": [],
            "_model_module": "@jupyter-widgets/controls",
            "_model_module_version": "1.5.0",
            "_model_name": "HTMLModel",
            "_view_count": null,
            "_view_module": "@jupyter-widgets/controls",
            "_view_module_version": "1.5.0",
            "_view_name": "HTMLView",
            "description": "",
            "description_tooltip": null,
            "layout": "IPY_MODEL_c215bdd45ee549368d98425b4baf6ed1",
            "placeholder": "​",
            "style": "IPY_MODEL_700913066e154d2db0eb2ca7e4d72ee0",
            "value": "100%"
          }
        },
        "6223acdc82d84cacbd3c5be829042f26": {
          "model_module": "@jupyter-widgets/controls",
          "model_name": "FloatProgressModel",
          "model_module_version": "1.5.0",
          "state": {
            "_dom_classes": [],
            "_model_module": "@jupyter-widgets/controls",
            "_model_module_version": "1.5.0",
            "_model_name": "FloatProgressModel",
            "_view_count": null,
            "_view_module": "@jupyter-widgets/controls",
            "_view_module_version": "1.5.0",
            "_view_name": "ProgressView",
            "bar_style": "success",
            "description": "",
            "description_tooltip": null,
            "layout": "IPY_MODEL_d07498e5e6e641e189b6d388a75e4c7d",
            "max": 3,
            "min": 0,
            "orientation": "horizontal",
            "style": "IPY_MODEL_a9634844f4774c05a4b8f0c95de9b9cb",
            "value": 3
          }
        },
        "16441619328c4dd481884bc1fb51b08d": {
          "model_module": "@jupyter-widgets/controls",
          "model_name": "HTMLModel",
          "model_module_version": "1.5.0",
          "state": {
            "_dom_classes": [],
            "_model_module": "@jupyter-widgets/controls",
            "_model_module_version": "1.5.0",
            "_model_name": "HTMLModel",
            "_view_count": null,
            "_view_module": "@jupyter-widgets/controls",
            "_view_module_version": "1.5.0",
            "_view_name": "HTMLView",
            "description": "",
            "description_tooltip": null,
            "layout": "IPY_MODEL_c4a75a9d06a143499b2572e93ff255fd",
            "placeholder": "​",
            "style": "IPY_MODEL_f481d245e42240edb583792598514fe9",
            "value": " 3/3 [00:00&lt;00:00, 147.51it/s]"
          }
        },
        "fc114611b1764b81beb3756bda9a923e": {
          "model_module": "@jupyter-widgets/base",
          "model_name": "LayoutModel",
          "model_module_version": "1.2.0",
          "state": {
            "_model_module": "@jupyter-widgets/base",
            "_model_module_version": "1.2.0",
            "_model_name": "LayoutModel",
            "_view_count": null,
            "_view_module": "@jupyter-widgets/base",
            "_view_module_version": "1.2.0",
            "_view_name": "LayoutView",
            "align_content": null,
            "align_items": null,
            "align_self": null,
            "border": null,
            "bottom": null,
            "display": null,
            "flex": null,
            "flex_flow": null,
            "grid_area": null,
            "grid_auto_columns": null,
            "grid_auto_flow": null,
            "grid_auto_rows": null,
            "grid_column": null,
            "grid_gap": null,
            "grid_row": null,
            "grid_template_areas": null,
            "grid_template_columns": null,
            "grid_template_rows": null,
            "height": null,
            "justify_content": null,
            "justify_items": null,
            "left": null,
            "margin": null,
            "max_height": null,
            "max_width": null,
            "min_height": null,
            "min_width": null,
            "object_fit": null,
            "object_position": null,
            "order": null,
            "overflow": null,
            "overflow_x": null,
            "overflow_y": null,
            "padding": null,
            "right": null,
            "top": null,
            "visibility": null,
            "width": null
          }
        },
        "c215bdd45ee549368d98425b4baf6ed1": {
          "model_module": "@jupyter-widgets/base",
          "model_name": "LayoutModel",
          "model_module_version": "1.2.0",
          "state": {
            "_model_module": "@jupyter-widgets/base",
            "_model_module_version": "1.2.0",
            "_model_name": "LayoutModel",
            "_view_count": null,
            "_view_module": "@jupyter-widgets/base",
            "_view_module_version": "1.2.0",
            "_view_name": "LayoutView",
            "align_content": null,
            "align_items": null,
            "align_self": null,
            "border": null,
            "bottom": null,
            "display": null,
            "flex": null,
            "flex_flow": null,
            "grid_area": null,
            "grid_auto_columns": null,
            "grid_auto_flow": null,
            "grid_auto_rows": null,
            "grid_column": null,
            "grid_gap": null,
            "grid_row": null,
            "grid_template_areas": null,
            "grid_template_columns": null,
            "grid_template_rows": null,
            "height": null,
            "justify_content": null,
            "justify_items": null,
            "left": null,
            "margin": null,
            "max_height": null,
            "max_width": null,
            "min_height": null,
            "min_width": null,
            "object_fit": null,
            "object_position": null,
            "order": null,
            "overflow": null,
            "overflow_x": null,
            "overflow_y": null,
            "padding": null,
            "right": null,
            "top": null,
            "visibility": null,
            "width": null
          }
        },
        "700913066e154d2db0eb2ca7e4d72ee0": {
          "model_module": "@jupyter-widgets/controls",
          "model_name": "DescriptionStyleModel",
          "model_module_version": "1.5.0",
          "state": {
            "_model_module": "@jupyter-widgets/controls",
            "_model_module_version": "1.5.0",
            "_model_name": "DescriptionStyleModel",
            "_view_count": null,
            "_view_module": "@jupyter-widgets/base",
            "_view_module_version": "1.2.0",
            "_view_name": "StyleView",
            "description_width": ""
          }
        },
        "d07498e5e6e641e189b6d388a75e4c7d": {
          "model_module": "@jupyter-widgets/base",
          "model_name": "LayoutModel",
          "model_module_version": "1.2.0",
          "state": {
            "_model_module": "@jupyter-widgets/base",
            "_model_module_version": "1.2.0",
            "_model_name": "LayoutModel",
            "_view_count": null,
            "_view_module": "@jupyter-widgets/base",
            "_view_module_version": "1.2.0",
            "_view_name": "LayoutView",
            "align_content": null,
            "align_items": null,
            "align_self": null,
            "border": null,
            "bottom": null,
            "display": null,
            "flex": null,
            "flex_flow": null,
            "grid_area": null,
            "grid_auto_columns": null,
            "grid_auto_flow": null,
            "grid_auto_rows": null,
            "grid_column": null,
            "grid_gap": null,
            "grid_row": null,
            "grid_template_areas": null,
            "grid_template_columns": null,
            "grid_template_rows": null,
            "height": null,
            "justify_content": null,
            "justify_items": null,
            "left": null,
            "margin": null,
            "max_height": null,
            "max_width": null,
            "min_height": null,
            "min_width": null,
            "object_fit": null,
            "object_position": null,
            "order": null,
            "overflow": null,
            "overflow_x": null,
            "overflow_y": null,
            "padding": null,
            "right": null,
            "top": null,
            "visibility": null,
            "width": null
          }
        },
        "a9634844f4774c05a4b8f0c95de9b9cb": {
          "model_module": "@jupyter-widgets/controls",
          "model_name": "ProgressStyleModel",
          "model_module_version": "1.5.0",
          "state": {
            "_model_module": "@jupyter-widgets/controls",
            "_model_module_version": "1.5.0",
            "_model_name": "ProgressStyleModel",
            "_view_count": null,
            "_view_module": "@jupyter-widgets/base",
            "_view_module_version": "1.2.0",
            "_view_name": "StyleView",
            "bar_color": null,
            "description_width": ""
          }
        },
        "c4a75a9d06a143499b2572e93ff255fd": {
          "model_module": "@jupyter-widgets/base",
          "model_name": "LayoutModel",
          "model_module_version": "1.2.0",
          "state": {
            "_model_module": "@jupyter-widgets/base",
            "_model_module_version": "1.2.0",
            "_model_name": "LayoutModel",
            "_view_count": null,
            "_view_module": "@jupyter-widgets/base",
            "_view_module_version": "1.2.0",
            "_view_name": "LayoutView",
            "align_content": null,
            "align_items": null,
            "align_self": null,
            "border": null,
            "bottom": null,
            "display": null,
            "flex": null,
            "flex_flow": null,
            "grid_area": null,
            "grid_auto_columns": null,
            "grid_auto_flow": null,
            "grid_auto_rows": null,
            "grid_column": null,
            "grid_gap": null,
            "grid_row": null,
            "grid_template_areas": null,
            "grid_template_columns": null,
            "grid_template_rows": null,
            "height": null,
            "justify_content": null,
            "justify_items": null,
            "left": null,
            "margin": null,
            "max_height": null,
            "max_width": null,
            "min_height": null,
            "min_width": null,
            "object_fit": null,
            "object_position": null,
            "order": null,
            "overflow": null,
            "overflow_x": null,
            "overflow_y": null,
            "padding": null,
            "right": null,
            "top": null,
            "visibility": null,
            "width": null
          }
        },
        "f481d245e42240edb583792598514fe9": {
          "model_module": "@jupyter-widgets/controls",
          "model_name": "DescriptionStyleModel",
          "model_module_version": "1.5.0",
          "state": {
            "_model_module": "@jupyter-widgets/controls",
            "_model_module_version": "1.5.0",
            "_model_name": "DescriptionStyleModel",
            "_view_count": null,
            "_view_module": "@jupyter-widgets/base",
            "_view_module_version": "1.2.0",
            "_view_name": "StyleView",
            "description_width": ""
          }
        }
      }
    }
  },
  "nbformat": 4,
  "nbformat_minor": 5
}